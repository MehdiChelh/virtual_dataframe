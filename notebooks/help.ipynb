{
 "cells": [
  {
   "cell_type": "code",
   "execution_count": 2,
   "id": "5732a160-1a04-4a52-bc5f-0a259a372081",
   "metadata": {
    "tags": [
     "parameters"
    ]
   },
   "outputs": [],
   "source": [
    "mode = \"dask\"  # RESET THE KERNEL if you change this"
   ]
  },
  {
   "cell_type": "code",
   "execution_count": 3,
   "id": "f56ce91c-d8c7-4ffd-9f17-338249245a7f",
   "metadata": {},
   "outputs": [
    {
     "name": "stdout",
     "output_type": "stream",
     "text": [
      "Use DASK\n"
     ]
    }
   ],
   "source": [
    "#%reload_ext autoreload\n",
    "#%autoreload 2\n",
    "import os\n",
    "# Select the mode in `pandas`, `cudf`, `dask` or `dask-cudf`.\n",
    "os.environ[\"VDF_MODE\"] = mode  # RESET THE KERNEL if you change this\n",
    "\n",
    "#import cardif_dask as vdf  # Import Virtual Dataframe\n",
    "import virtual_dataframe as vdf\n",
    "import pandas as pd\n",
    "import numpy as np\n",
    "\n",
    "print(f\"Use {vdf.VDF_MODE.name.upper()}\")"
   ]
  },
  {
   "cell_type": "code",
   "execution_count": 5,
   "id": "1c943f53-8eaa-4fc5-9b93-84ac7f95224f",
   "metadata": {
    "pycharm": {
     "name": "#%%\n"
    }
   },
   "outputs": [],
   "source": [
    "s = vdf.VSeries([1,2,3,None,4],npartitions=2)\n",
    "df = vdf.VDataFrame({'a': list(range(20)),\n",
    "                 'b': list(reversed(range(20))),\n",
    "                 'c': list(range(20))\n",
    "                }, npartitions=2)\n"
   ]
  },
  {
   "cell_type": "code",
   "execution_count": null,
   "id": "fc9b2d3c-581a-4097-87af-fabd89a74537",
   "metadata": {},
   "outputs": [],
   "source": [
    "help(vdf.delayed)"
   ]
  },
  {
   "cell_type": "code",
   "execution_count": null,
   "id": "3eb2f0f2-4c12-483a-ac46-3c9814670d5f",
   "metadata": {},
   "outputs": [],
   "source": [
    "help(vdf.concat)"
   ]
  },
  {
   "cell_type": "code",
   "execution_count": null,
   "id": "501a1514-cd0c-475a-a959-a6a46cd16c7e",
   "metadata": {
    "pycharm": {
     "name": "#%%\n"
    }
   },
   "outputs": [],
   "source": [
    "help(vdf.read_csv)"
   ]
  },
  {
   "cell_type": "code",
   "execution_count": null,
   "id": "9e586cf3-7557-4652-ad36-c7e958454f41",
   "metadata": {},
   "outputs": [],
   "source": [
    "help(vdf.from_pandas)"
   ]
  },
  {
   "cell_type": "code",
   "execution_count": null,
   "id": "227006d5-078b-4596-a2c0-89b4448fca4b",
   "metadata": {},
   "outputs": [],
   "source": [
    "help(vdf.from_virtual)"
   ]
  },
  {
   "cell_type": "code",
   "execution_count": null,
   "id": "8ae34cd9-4375-4bf2-9353-b346e097e257",
   "metadata": {},
   "outputs": [],
   "source": [
    "help(vdf.compute)"
   ]
  },
  {
   "cell_type": "markdown",
   "id": "04b8138c-fc10-48a6-b251-05cd036c2e9c",
   "metadata": {},
   "source": [
    "## Classes"
   ]
  },
  {
   "cell_type": "code",
   "execution_count": null,
   "id": "8bdb78b8-6404-4622-ab48-8013bba9aade",
   "metadata": {},
   "outputs": [],
   "source": [
    "help(vdf.VDataFrame)"
   ]
  },
  {
   "cell_type": "code",
   "execution_count": null,
   "id": "dc7b7fb9-350f-4824-8f49-cf34c48bcdc1",
   "metadata": {
    "tags": []
   },
   "outputs": [],
   "source": [
    "help(vdf.VSeries)"
   ]
  },
  {
   "cell_type": "markdown",
   "id": "f0a49bcb-1782-4023-a392-0a1951adc910",
   "metadata": {},
   "source": [
    "## DataFrame"
   ]
  },
  {
   "cell_type": "code",
   "execution_count": null,
   "id": "17836894-078e-4cdf-b036-fda430be0c6d",
   "metadata": {},
   "outputs": [],
   "source": [
    "help(df.compute)"
   ]
  },
  {
   "cell_type": "code",
   "execution_count": null,
   "id": "b6ef23f9-71f3-4816-b9db-91c7d5280414",
   "metadata": {},
   "outputs": [],
   "source": [
    "help(df.to_pandas)"
   ]
  },
  {
   "cell_type": "code",
   "execution_count": null,
   "id": "52d34f92-5351-4b9f-b32c-da004eb7fdb5",
   "metadata": {},
   "outputs": [],
   "source": [
    "help(df.to_csv)"
   ]
  },
  {
   "cell_type": "code",
   "execution_count": 10,
   "id": "4e388275-0bc1-43d1-9e74-c7ebdac411b3",
   "metadata": {},
   "outputs": [
    {
     "name": "stdout",
     "output_type": "stream",
     "text": [
      "Help on method <lambda> in module virtual_dataframe.vpandas:\n",
      "\n",
      "<lambda> lambda (...) method of dask.dataframe.core.DataFrame instance\n",
      "    Convert VDataFrame to Numpy array\n",
      "\n"
     ]
    }
   ],
   "source": [
    "help(df.to_numpy)"
   ]
  },
  {
   "cell_type": "code",
   "execution_count": 9,
   "id": "1cd395ad-8192-489a-810f-d5504705445b",
   "metadata": {},
   "outputs": [
    {
     "name": "stdout",
     "output_type": "stream",
     "text": [
      "Help on method categorize in module dask.dataframe.categorical:\n",
      "\n",
      "categorize(columns=None, index=None, split_every=None, **kwargs) method of dask.dataframe.core.DataFrame instance\n",
      "    Convert columns of the DataFrame to category dtype.\n",
      "    \n",
      "    Parameters\n",
      "    ----------\n",
      "    columns : list, optional\n",
      "        A list of column names to convert to categoricals. By default any\n",
      "        column with an object dtype is converted to a categorical, and any\n",
      "        unknown categoricals are made known.\n",
      "    index : bool, optional\n",
      "        Whether to categorize the index. By default, object indices are\n",
      "        converted to categorical, and unknown categorical indices are made\n",
      "        known. Set True to always categorize the index, False to never.\n",
      "    split_every : int, optional\n",
      "        Group partitions into groups of this size while performing a\n",
      "        tree-reduction. If set to False, no tree-reduction will be used.\n",
      "        Default is 16.\n",
      "    kwargs\n",
      "        Keyword arguments are passed on to compute.\n",
      "\n"
     ]
    }
   ],
   "source": [
    "help(df.categorize)"
   ]
  },
  {
   "cell_type": "markdown",
   "id": "ae63b78c-d991-4c10-bf56-622394f6305e",
   "metadata": {},
   "source": [
    "## Series"
   ]
  },
  {
   "cell_type": "code",
   "execution_count": 8,
   "id": "56c538be-48f4-4b9b-a61f-f1bad35d6716",
   "metadata": {},
   "outputs": [
    {
     "name": "stdout",
     "output_type": "stream",
     "text": [
      "Help on method compute in module dask.base:\n",
      "\n",
      "compute(**kwargs) method of dask.dataframe.core.Series instance\n",
      "    Compute this dask collection\n",
      "    \n",
      "    This turns a lazy Dask collection into its in-memory equivalent.\n",
      "    For example a Dask array turns into a NumPy array and a Dask dataframe\n",
      "    turns into a Pandas dataframe.  The entire dataset must fit into memory\n",
      "    before calling this operation.\n",
      "    \n",
      "    Parameters\n",
      "    ----------\n",
      "    scheduler : string, optional\n",
      "        Which scheduler to use like \"threads\", \"synchronous\" or \"processes\".\n",
      "        If not provided, the default is to check the global settings first,\n",
      "        and then fall back to the collection defaults.\n",
      "    optimize_graph : bool, optional\n",
      "        If True [default], the graph is optimized before computation.\n",
      "        Otherwise the graph is run as is. This can be useful for debugging.\n",
      "    kwargs\n",
      "        Extra keywords to forward to the scheduler function.\n",
      "    \n",
      "    See Also\n",
      "    --------\n",
      "    dask.base.compute\n",
      "\n"
     ]
    }
   ],
   "source": [
    "help(s.compute)"
   ]
  },
  {
   "cell_type": "code",
   "execution_count": 7,
   "id": "765ba403-0c1e-453c-9c4b-a3474b179c4f",
   "metadata": {},
   "outputs": [
    {
     "name": "stdout",
     "output_type": "stream",
     "text": [
      "Help on method <lambda> in module virtual_dataframe.vpandas:\n",
      "\n",
      "<lambda> lambda (...) method of dask.dataframe.core.Series instance\n",
      "    Convert VSeries to Pandas DataFrame\n",
      "\n"
     ]
    }
   ],
   "source": [
    "help(s.to_pandas)"
   ]
  },
  {
   "cell_type": "code",
   "execution_count": 6,
   "id": "4e173673-33da-4d4c-bd81-771e06414eca",
   "metadata": {},
   "outputs": [
    {
     "name": "stdout",
     "output_type": "stream",
     "text": [
      "Help on method <lambda> in module virtual_dataframe.vpandas:\n",
      "\n",
      "<lambda> lambda (...) method of dask.dataframe.core.Series instance\n",
      "    Convert VSeries to Numpy array\n",
      "\n"
     ]
    }
   ],
   "source": [
    "help(s.to_numpy)"
   ]
  },
  {
   "cell_type": "code",
   "execution_count": null,
   "id": "46c5e647-3c15-4920-8b7b-1f96944acf08",
   "metadata": {},
   "outputs": [],
   "source": []
  }
 ],
 "metadata": {
  "kernelspec": {
   "display_name": "Python 3 (ipykernel)",
   "language": "python",
   "name": "python3"
  },
  "language_info": {
   "codemirror_mode": {
    "name": "ipython",
    "version": 3
   },
   "file_extension": ".py",
   "mimetype": "text/x-python",
   "name": "python",
   "nbconvert_exporter": "python",
   "pygments_lexer": "ipython3",
   "version": "3.9.13"
  }
 },
 "nbformat": 4,
 "nbformat_minor": 5
}
