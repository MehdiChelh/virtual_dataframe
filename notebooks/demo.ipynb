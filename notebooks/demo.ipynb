{
 "cells": [
  {
   "cell_type": "markdown",
   "id": "58335e40-ead2-4aab-ac54-e5387c65db43",
   "metadata": {
    "pycharm": {
     "name": "#%% md\n"
    }
   },
   "source": [
    "# Initialisation\n",
    "Select the mode in `pandas`, `cudf`, `dask` or `dask-cudf`."
   ]
  },
  {
   "cell_type": "code",
   "execution_count": null,
   "id": "58311161-f284-44f2-99d1-3915eabee2fb",
   "metadata": {
    "pycharm": {
     "name": "#%%\n"
    }
   },
   "outputs": [],
   "source": [
    "#%reload_ext autoreload\n",
    "#%autoreload 2\n",
    "import os\n",
    "os.environ[\"VDF_MODE\"] = \"cudf\"  # Reset the kernel if you change this\n",
    "\n",
    "#import cardif_dask as vdf  # Import Virtual Dataframe\n",
    "import virtual_dataframe as vdf\n",
    "import pandas as pd\n",
    "import cupy as cp\n",
    "\n",
    "print(f\"Use {vdf.VDF_MODE}\")"
   ]
  },
  {
   "cell_type": "markdown",
   "id": "c9fb5124-3c73-4021-80d4-6ed15934b14f",
   "metadata": {
    "pycharm": {
     "name": "#%% md\n"
    }
   },
   "source": [
    "# Object Creation\n",
    "Creating a `VSeries`"
   ]
  },
  {
   "cell_type": "code",
   "execution_count": null,
   "id": "0deb48d6-6340-43ad-800c-855234184d75",
   "metadata": {
    "pycharm": {
     "name": "#%%\n"
    }
   },
   "outputs": [],
   "source": [
    "s = vdf.VSeries([1,2,3,None,4],npartitions=2)\n",
    "s.compute()"
   ]
  },
  {
   "cell_type": "markdown",
   "id": "84fcf8e1-b596-4671-8a8f-c1c3d3cd8806",
   "metadata": {
    "pycharm": {
     "name": "#%% md\n"
    }
   },
   "source": [
    "Creating a `VDataFrame` by specifying values for each column."
   ]
  },
  {
   "cell_type": "code",
   "execution_count": null,
   "id": "932291cf-5f12-4d35-b56a-4b761ae83bac",
   "metadata": {
    "pycharm": {
     "name": "#%%\n"
    }
   },
   "outputs": [],
   "source": [
    "df = vdf.VDataFrame({'a': list(range(20)),\n",
    "                 'b': list(reversed(range(20))),\n",
    "                 'c': list(range(20))\n",
    "                }, npartitions=2)\n",
    "df.compute()"
   ]
  },
  {
   "cell_type": "markdown",
   "id": "47070684-8fff-49a7-87dd-81363b47eeec",
   "metadata": {
    "pycharm": {
     "name": "#%% md\n"
    }
   },
   "source": [
    "Creating a `VDataFrame` from a pandas `Dataframe`.\n",
    "\n",
    "> Note that best practice for `VDataFrame` is to read data directly into a ̀`VDataFrame` with something like `read_csv()` (discussed below)."
   ]
  },
  {
   "cell_type": "code",
   "execution_count": null,
   "id": "be5d0f06-5b58-4f11-a30c-f6007cc67b28",
   "metadata": {
    "pycharm": {
     "name": "#%%\n"
    }
   },
   "outputs": [],
   "source": [
    "pdf = pd.DataFrame({'a': [0, 1, 2, 3],'b': [0.1, 0.2, None, 0.3]})\n",
    "df = vdf.from_pandas(pdf,npartitions=2)\n",
    "df.compute()"
   ]
  },
  {
   "cell_type": "code",
   "execution_count": null,
   "id": "6fac44a6",
   "metadata": {
    "pycharm": {
     "name": "#%%\n"
    }
   },
   "outputs": [],
   "source": [
    "ps = pd.Series([1,2,3,None,4])\n",
    "s = vdf.from_pandas(ps,npartitions=2)\n",
    "s.compute()"
   ]
  },
  {
   "cell_type": "markdown",
   "id": "4cb334c7",
   "metadata": {
    "collapsed": false,
    "pycharm": {
     "name": "#%% md\n"
    }
   },
   "source": [
    "# Viewing Data\n",
    "Viewing the top rows of a `VDataFrame`."
   ]
  },
  {
   "cell_type": "code",
   "execution_count": null,
   "id": "25cb0156",
   "metadata": {
    "pycharm": {
     "name": "#%%\n"
    }
   },
   "outputs": [],
   "source": [
    "df.head(2).compute()"
   ]
  },
  {
   "cell_type": "code",
   "execution_count": null,
   "id": "8cb7afbf",
   "metadata": {
    "pycharm": {
     "name": "#%%\n"
    }
   },
   "outputs": [],
   "source": [
    "df.sort_values(by='b').compute()"
   ]
  },
  {
   "cell_type": "markdown",
   "id": "b5434a75",
   "metadata": {
    "collapsed": false,
    "pycharm": {
     "name": "#%% md\n"
    }
   },
   "source": [
    "# Selection\n",
    "## Getting\n",
    "Selecting a single column, which initially yields a `VSeries`."
   ]
  },
  {
   "cell_type": "code",
   "execution_count": null,
   "id": "77397d33",
   "metadata": {
    "pycharm": {
     "name": "#%%\n"
    }
   },
   "outputs": [],
   "source": [
    "df['a'].compute()"
   ]
  },
  {
   "cell_type": "markdown",
   "id": "1575f708",
   "metadata": {
    "collapsed": false,
    "pycharm": {
     "name": "#%% md\n"
    }
   },
   "source": [
    "## Selection by Label\n",
    "Selecting rows from index 2 to index 5 from columns ‘a’ and ‘b’."
   ]
  },
  {
   "cell_type": "code",
   "execution_count": null,
   "id": "e98cb04d",
   "metadata": {
    "pycharm": {
     "name": "#%%\n"
    }
   },
   "outputs": [],
   "source": [
    "df.loc[2:5, ['a', 'b']].compute()"
   ]
  },
  {
   "cell_type": "markdown",
   "id": "f54bf6de",
   "metadata": {
    "collapsed": false,
    "pycharm": {
     "name": "#%% md\n"
    }
   },
   "source": [
    "## Selection by Position\n",
    "Selecting via integers and integer slices, like numpy/pandas.\n",
    "> Note that this functionality is not available for `dask-cudf`."
   ]
  },
  {
   "cell_type": "code",
   "execution_count": null,
   "outputs": [],
   "source": [
    "df.iloc[0].compute() if vdf.VDF_MODE != vdf.Mode.dask_cudf else None"
   ],
   "metadata": {
    "collapsed": false,
    "pycharm": {
     "name": "#%%\n"
    }
   }
  },
  {
   "cell_type": "markdown",
   "id": "716e270b-b440-4b18-9734-0e32bca55d06",
   "metadata": {
    "pycharm": {
     "name": "#%% md\n"
    }
   },
   "source": [
    "You can also select elements of a `VDataFrame` or `VSeries` with direct index access."
   ]
  },
  {
   "cell_type": "code",
   "execution_count": null,
   "id": "91c45202-6c6e-43a6-8d6d-0179206b47a9",
   "metadata": {
    "pycharm": {
     "name": "#%%\n"
    }
   },
   "outputs": [],
   "source": [
    "df[3:5].compute()"
   ]
  },
  {
   "cell_type": "code",
   "execution_count": null,
   "id": "12799d52-e9a7-4852-be90-b54d4fc19470",
   "metadata": {
    "pycharm": {
     "name": "#%%\n"
    }
   },
   "outputs": [],
   "source": [
    "s[3:5].compute()"
   ]
  },
  {
   "cell_type": "markdown",
   "id": "80ff7faf-fc9b-4267-b665-62095f968280",
   "metadata": {
    "pycharm": {
     "name": "#%% md\n"
    }
   },
   "source": [
    "## Boolean Indexing\n",
    "Selecting rows in a `VDataFrame` or `VSeries` by direct `Boolean` indexing."
   ]
  },
  {
   "cell_type": "code",
   "execution_count": null,
   "id": "7ed2777d-acfd-43b0-a1e5-90dcf4c01ec6",
   "metadata": {
    "pycharm": {
     "name": "#%%\n"
    }
   },
   "outputs": [],
   "source": [
    "df[df.b > 15].compute()"
   ]
  },
  {
   "cell_type": "markdown",
   "id": "ea27c1fe-789c-441b-a958-90e2f2ca1c16",
   "metadata": {
    "pycharm": {
     "name": "#%% md\n"
    }
   },
   "source": [
    "Selecting values from a `DataFrame` where a `Boolean` condition is met, via the query API."
   ]
  },
  {
   "cell_type": "code",
   "execution_count": null,
   "id": "797fa5e4-4dbc-41c3-9069-cb9ab2151186",
   "metadata": {
    "pycharm": {
     "name": "#%%\n"
    }
   },
   "outputs": [],
   "source": [
    "df.query(\"b == 3\").compute()"
   ]
  },
  {
   "cell_type": "markdown",
   "id": "59cedfac-74ef-4203-8207-d83b58d15838",
   "metadata": {
    "pycharm": {
     "name": "#%% md\n"
    }
   },
   "source": [
    "You can also pass local variables to Dask-cuDF queries, via the local_dict keyword.\n",
    "With standard cuDF, you may either use the local_dict keyword or directly pass the variable\n",
    "via the @ keyword. Supported logical operators include >, <, >=, <=, ==, and !=."
   ]
  },
  {
   "cell_type": "code",
   "execution_count": null,
   "id": "db6bdbab-891b-429d-bc0b-7e4c888c6d4f",
   "metadata": {
    "pycharm": {
     "name": "#%%\n"
    }
   },
   "outputs": [],
   "source": [
    "value = 3\n",
    "df.query(\"b == @value\").compute()"
   ]
  },
  {
   "cell_type": "code",
   "execution_count": null,
   "id": "edff6fc4-6529-4210-9ac9-5eb0c0f0365a",
   "metadata": {
    "pycharm": {
     "name": "#%%\n"
    }
   },
   "outputs": [],
   "source": [
    "value = 3\n",
    "df.query(\"b == @val\", local_dict={'val':value}).compute()"
   ]
  },
  {
   "cell_type": "markdown",
   "id": "19f6c3f9-df02-4643-b765-e15afe1d616e",
   "metadata": {
    "pycharm": {
     "name": "#%% md\n"
    }
   },
   "source": [
    "Using the isin method for filtering."
   ]
  },
  {
   "cell_type": "code",
   "execution_count": null,
   "id": "b6ebaaf4-5dc3-4aea-bf08-30e878906107",
   "metadata": {
    "pycharm": {
     "name": "#%%\n"
    }
   },
   "outputs": [],
   "source": [
    "df[df.a.isin([0, 5])].compute()"
   ]
  },
  {
   "cell_type": "markdown",
   "id": "543a4c71-8a1a-43c3-a691-69bb34a9df0f",
   "metadata": {
    "pycharm": {
     "name": "#%% md\n"
    }
   },
   "source": [
    "# MultiIndex\n",
    "Virtual Dataframe supports hierarchical indexing of DataFrames using MultiIndex.\n",
    "Grouping hierarchically (see Grouping below) automatically produces a DataFrame with a MultiIndex."
   ]
  },
  {
   "cell_type": "code",
   "execution_count": null,
   "id": "9ff8e65f-fbed-4d55-8714-700a2a42ee87",
   "metadata": {
    "pycharm": {
     "name": "#%%\n"
    }
   },
   "outputs": [],
   "source": [
    "# FIXME\n",
    "arrays = [['a', 'a', 'b', 'b'], [1, 2, 3, 4]]\n",
    "tuples = list(zip(*arrays))\n",
    "idx = vdf.MultiIndex.from_tuples(tuples)\n",
    "idx"
   ]
  },
  {
   "cell_type": "code",
   "execution_count": null,
   "id": "5444d165-5454-486f-af25-d772e0b51c6f",
   "metadata": {
    "pycharm": {
     "name": "#%%\n"
    }
   },
   "outputs": [],
   "source": [
    "import random\n",
    "import array\n",
    "rand4_1=array.array('d',[random.random() for i in range(0,4)])\n",
    "rand4_2=array.array('d',[random.random() for i in range(0,4)])\n",
    "# FIXME rand4= cp.random.rand(4)"
   ]
  },
  {
   "cell_type": "code",
   "execution_count": null,
   "id": "0145880e-ff4a-4c60-ac73-d9f86c8b0d71",
   "metadata": {
    "pycharm": {
     "name": "#%%\n"
    }
   },
   "outputs": [],
   "source": [
    "df1 = vdf.VDataFrame({'first': rand4_1, 'second': rand4_2})\n",
    "df1.index = idx\n",
    "df1"
   ]
  },
  {
   "cell_type": "code",
   "execution_count": null,
   "id": "f5a5c00c-e57a-4152-bbb2-67e2864789d6",
   "metadata": {
    "pycharm": {
     "name": "#%%\n"
    }
   },
   "outputs": [],
   "source": [
    "df2 = vdf.VDataFrame({'first': rand4_1, 'second': rand4_2}).T\n",
    "df2.columns = idx\n",
    "df2"
   ]
  },
  {
   "cell_type": "code",
   "execution_count": null,
   "id": "7a10ddea-4f33-4eaa-a5d6-7a4f0f4f41f7",
   "metadata": {
    "pycharm": {
     "name": "#%%\n"
    }
   },
   "outputs": [],
   "source": [
    "df1.loc[('b', 3)]"
   ]
  },
  {
   "cell_type": "markdown",
   "id": "201220d1-cf0a-4194-8819-3ea0901ccce9",
   "metadata": {
    "pycharm": {
     "name": "#%% md\n"
    }
   },
   "source": [
    "# Missing Data\n",
    "Missing data can be replaced by using the fillna method."
   ]
  },
  {
   "cell_type": "code",
   "execution_count": null,
   "id": "3ad0b6b3-068a-4635-83a2-95cbcf455b96",
   "metadata": {
    "pycharm": {
     "name": "#%%\n"
    }
   },
   "outputs": [],
   "source": [
    "s.fillna(999).compute()"
   ]
  },
  {
   "cell_type": "markdown",
   "id": "4ca5285f-2ff1-4d21-896e-6d5a7900fdcb",
   "metadata": {
    "pycharm": {
     "name": "#%% md\n"
    }
   },
   "source": [
    "# Operations\n",
    "## Stats\n",
    "Calculating descriptive statistics for a Series."
   ]
  },
  {
   "cell_type": "code",
   "execution_count": null,
   "id": "1d8572d6-c93c-4a6e-a049-e1cf326a1490",
   "metadata": {
    "pycharm": {
     "name": "#%%\n"
    }
   },
   "outputs": [],
   "source": [
    "vdf.compute(s.mean())[0], vdf.compute(s.var())[0]"
   ]
  },
  {
   "cell_type": "markdown",
   "id": "22b8091f-a115-4322-a7f7-6bb4e6910e76",
   "metadata": {
    "pycharm": {
     "name": "#%% md\n"
    }
   },
   "source": [
    "# Applymap\n",
    "Applying functions to a Series.\n",
    "Note that applying user defined functions directly with Dask-cuDF is not yet implemented.\n",
    "For now, you can use map_partitions to apply a function to each partition of the distributed dataframe."
   ]
  },
  {
   "cell_type": "code",
   "execution_count": null,
   "id": "0fc0d89c-076a-4058-a209-8e6e8145a9e0",
   "metadata": {
    "pycharm": {
     "name": "#%%\n"
    }
   },
   "outputs": [],
   "source": [
    "def add_ten(num):\n",
    "    return num + 10\n",
    "\n",
    "df['a'].apply(add_ten).compute()"
   ]
  },
  {
   "cell_type": "code",
   "execution_count": null,
   "id": "17174c6e-d2b0-453f-8537-fbff43ff3a7a",
   "metadata": {
    "pycharm": {
     "name": "#%%\n"
    }
   },
   "outputs": [],
   "source": [
    "# Not with pandas\n",
    "if vdf.VDF_MODE in (vdf.Mode.dask, vdf.Mode.dask_cudf):\n",
    "    df['a'].map_partitions(add_ten).compute()"
   ]
  },
  {
   "cell_type": "markdown",
   "id": "55254d98-5980-4be0-ad37-b33b124cc583",
   "metadata": {
    "pycharm": {
     "name": "#%% md\n"
    }
   },
   "source": [
    "# Histogramming\n",
    "Counting the number of occurrences of each unique value of variable."
   ]
  },
  {
   "cell_type": "code",
   "execution_count": null,
   "id": "399714be-6b2a-483c-b98b-8fb6fdf48c98",
   "metadata": {
    "pycharm": {
     "name": "#%%\n"
    }
   },
   "outputs": [],
   "source": [
    "df.a.value_counts().compute()"
   ]
  },
  {
   "cell_type": "markdown",
   "id": "a9c0228e-285e-48fa-99ce-3109f6255ade",
   "metadata": {
    "pycharm": {
     "name": "#%% md\n"
    }
   },
   "source": [
    "# String Methods\n",
    "Virtual Dataframe provides string processing methods in the str attribute of Series."
   ]
  },
  {
   "cell_type": "code",
   "execution_count": null,
   "id": "b88f28b0-1686-4e65-809c-d71da92f86c4",
   "metadata": {
    "pycharm": {
     "name": "#%%\n"
    }
   },
   "outputs": [],
   "source": [
    "s = vdf.VSeries(['A', 'B', 'C', 'Aaba', 'Baca', None, 'CABA', 'dog', 'cat'], npartitions=2)\n",
    "s.str.lower().compute()"
   ]
  },
  {
   "cell_type": "markdown",
   "id": "adbe4598-1d0d-4629-8548-352a674a3836",
   "metadata": {
    "pycharm": {
     "name": "#%% md\n"
    }
   },
   "source": [
    "# Concat\n",
    "Concatenating VSeries and VDataFrames row-wise."
   ]
  },
  {
   "cell_type": "code",
   "execution_count": null,
   "id": "cb70c51e-6cc2-4bb7-8837-e36a8b41a909",
   "metadata": {
    "pycharm": {
     "name": "#%%\n"
    }
   },
   "outputs": [],
   "source": [
    "s = vdf.VSeries([1, 2, 3, None, 5],npartitions=2)\n",
    "vdf.concat([s, s]).compute()"
   ]
  },
  {
   "cell_type": "markdown",
   "id": "bf906f59-a6bf-4e0b-b6ac-8e2db40479a7",
   "metadata": {
    "pycharm": {
     "name": "#%% md\n"
    }
   },
   "source": [
    "# Join\n",
    "Performing SQL style merges.\n",
    "Note that the dataframe order is not maintained, but may be restored post-merge by sorting by the index."
   ]
  },
  {
   "cell_type": "code",
   "execution_count": null,
   "id": "cf20531e-ab43-4148-863d-bb1188988faf",
   "metadata": {
    "pycharm": {
     "name": "#%%\n"
    }
   },
   "outputs": [],
   "source": [
    "df_a = vdf.VDataFrame()\n",
    "df_a['key'] = ['a', 'b', 'c', 'd', 'e']\n",
    "df_a['vals_a'] = [float(i + 10) for i in range(5)]\n",
    "\n",
    "df_b = vdf.VDataFrame()\n",
    "df_b['key'] = ['a', 'c', 'e']\n",
    "df_b['vals_b'] = [float(i+100) for i in range(3)]\n",
    "\n",
    "merged = df_a.merge(df_b, on=['key'], how='left').compute()\n",
    "merged"
   ]
  },
  {
   "cell_type": "markdown",
   "id": "126c5b89-7762-455d-bf56-710e933f18f3",
   "metadata": {
    "pycharm": {
     "name": "#%% md\n"
    }
   },
   "source": [
    "# FIXME Grouping\n",
    "Virtual Dataframe support the Split-Apply-Combine groupby paradigm."
   ]
  },
  {
   "cell_type": "code",
   "execution_count": null,
   "id": "807464b4-a5f7-4525-8af0-c9d453c06ed7",
   "metadata": {
    "pycharm": {
     "name": "#%%\n"
    }
   },
   "outputs": [],
   "source": [
    "# FIXME\n",
    "df['agg_col1'] = [1 if x % 2 == 0 else 0 for x in range(len(df))]\n",
    "df['agg_col2'] = [1 if x % 3 == 0 else 0 for x in range(len(df))]\n",
    "\n",
    "ddf = vdf.from_cudf(df, npartitions=2)\n"
   ]
  },
  {
   "cell_type": "markdown",
   "id": "88ebbe54-674c-458d-8a8d-b650af1def9d",
   "metadata": {
    "pycharm": {
     "name": "#%% md\n"
    }
   },
   "source": [
    "Grouping and then applying the sum function to the grouped data."
   ]
  },
  {
   "cell_type": "code",
   "execution_count": null,
   "id": "d18df2ac-cff6-4bcc-affa-02f9e11db2d5",
   "metadata": {
    "pycharm": {
     "name": "#%%\n"
    }
   },
   "outputs": [],
   "source": [
    "df.groupby('agg_col1').sum().compute()"
   ]
  },
  {
   "cell_type": "markdown",
   "id": "b6783e58-2fd8-41e7-8395-4f4e1e1412d0",
   "metadata": {
    "pycharm": {
     "name": "#%% md\n"
    }
   },
   "source": [
    "Grouping hierarchically then applying the sum function to grouped data."
   ]
  },
  {
   "cell_type": "code",
   "execution_count": null,
   "id": "7e41afa3-b355-4dcf-b9a9-f73a2e5d4496",
   "metadata": {
    "pycharm": {
     "name": "#%%\n"
    }
   },
   "outputs": [],
   "source": [
    "df.groupby(['agg_col1', 'agg_col2']).sum().compute()"
   ]
  },
  {
   "cell_type": "markdown",
   "id": "e5e6acd4-acaa-4e70-940d-5d47b81c3ba2",
   "metadata": {
    "pycharm": {
     "name": "#%% md\n"
    }
   },
   "source": [
    "Grouping and applying statistical functions to specific columns, using agg."
   ]
  },
  {
   "cell_type": "code",
   "execution_count": null,
   "id": "7abcb0b9-a1d0-4363-9d7c-64e343190730",
   "metadata": {
    "pycharm": {
     "name": "#%%\n"
    }
   },
   "outputs": [],
   "source": [
    "# FIXME\n",
    "df.groupby('agg_col1').agg({'a':'max', 'b':'mean', 'c':'sum'}).compute()"
   ]
  },
  {
   "cell_type": "markdown",
   "id": "87e5fd24-f16e-49a4-aded-c8fd597a34e2",
   "metadata": {
    "pycharm": {
     "name": "#%% md\n"
    }
   },
   "source": [
    "# Transpose\n",
    "Transposing a dataframe, using either the transpose method or `T` property.\n",
    "Currently, all columns must have the same type.\n",
    "\n",
    "> Transposing is not currently implemented in `dask-cudf`."
   ]
  },
  {
   "cell_type": "code",
   "execution_count": null,
   "id": "cd514747-6b4b-4043-9b2d-623c5c22ed45",
   "metadata": {
    "pycharm": {
     "name": "#%%\n"
    }
   },
   "outputs": [],
   "source": [
    "df = vdf.VDataFrame({'a': [1, 2, 3], 'b': [4, 5, 6]})\n",
    "df"
   ]
  },
  {
   "cell_type": "code",
   "execution_count": null,
   "id": "2fbf01c1-28c7-4480-81c8-5b37b26d1fd9",
   "metadata": {
    "pycharm": {
     "name": "#%%\n"
    }
   },
   "outputs": [],
   "source": [
    "df.transpose().compute()"
   ]
  },
  {
   "cell_type": "markdown",
   "id": "3cf7cab3-9eab-4e9f-b2b9-974a608fa06a",
   "metadata": {
    "pycharm": {
     "name": "#%% md\n"
    },
    "tags": []
   },
   "source": [
    "# FIXME Time Series\n",
    "`VDataFrames` supports datetime typed columns, which allow users to interact with and filter data based on specific timestamps."
   ]
  },
  {
   "cell_type": "code",
   "execution_count": null,
   "id": "9c7a6dcf-57a3-4876-bcef-dc71a8ca331e",
   "metadata": {
    "pycharm": {
     "name": "#%%\n"
    }
   },
   "outputs": [],
   "source": [
    "# FIXME\n",
    "rand_len = cp.random.sample(len(date_df))"
   ]
  },
  {
   "cell_type": "code",
   "execution_count": null,
   "id": "e4984bd4-5966-494a-b1d6-4d4587e8ada9",
   "metadata": {
    "pycharm": {
     "name": "#%%\n"
    }
   },
   "outputs": [],
   "source": [
    "#FIXME\n",
    "import datetime as dt\n",
    "\n",
    "date_df = vdf.VDataFrame()\n",
    "date_df['date'] = pd.date_range('11/20/2018', periods=72, freq='D')\n",
    "date_df['value'] = rand_len\n",
    "\n",
    "search_date = dt.datetime.strptime('2018-11-23', '%Y-%m-%d')\n",
    "date_df.query('date <= @search_date')"
   ]
  },
  {
   "cell_type": "code",
   "execution_count": null,
   "id": "a273b491-c306-4d7d-a773-3857458d8fb3",
   "metadata": {
    "pycharm": {
     "name": "#%%\n"
    }
   },
   "outputs": [],
   "source": [
    "# FIXME\n",
    "date_ddf = dask_cudf.from_cudf(date_df, npartitions=2)\n",
    "date_ddf.query('date <= @search_date', local_dict={'search_date':search_date}).compute()"
   ]
  },
  {
   "cell_type": "markdown",
   "id": "689943ba-4c6d-4efa-9b0c-a06011c112c6",
   "metadata": {
    "pycharm": {
     "name": "#%% md\n"
    },
    "tags": []
   },
   "source": [
    "# FIXME Categoricals\n",
    "VDataFrames support categorical columns."
   ]
  },
  {
   "cell_type": "code",
   "execution_count": null,
   "id": "e4ad138e-c0d4-4f09-8533-ec15222c28f6",
   "metadata": {
    "pycharm": {
     "name": "#%%\n"
    }
   },
   "outputs": [],
   "source": [
    "# FIXME\n",
    "cdf = vdf.VDataFrame({\"id\": [1, 2, 3, 4, 5, 6], \"grade\":['a', 'b', 'b', 'a', 'a', 'e']}, npartitions=2)\n",
    "cdf['grade'] = df['grade'].astype('category')\n",
    "cdf.compute()"
   ]
  },
  {
   "cell_type": "markdown",
   "id": "bfcb1dee-d5f5-417d-bf29-3e9b879bb788",
   "metadata": {
    "pycharm": {
     "name": "#%% md\n"
    }
   },
   "source": [
    "Accessing the categories of a column.\n",
    "\n",
    "> Note that this is currently not supported in `dask-cudf`."
   ]
  },
  {
   "cell_type": "code",
   "execution_count": null,
   "id": "fb1cd27f-b5c5-4cec-bc93-020857ae0250",
   "metadata": {
    "pycharm": {
     "name": "#%%\n"
    }
   },
   "outputs": [],
   "source": [
    "# FIXME\n",
    "cdf.grade.cat.categories"
   ]
  },
  {
   "cell_type": "markdown",
   "id": "d1a2f6b0-c76d-4044-b820-f4c597a74b81",
   "metadata": {
    "pycharm": {
     "name": "#%% md\n"
    }
   },
   "source": [
    "Accessing the underlying code values of each categorical observation."
   ]
  },
  {
   "cell_type": "code",
   "execution_count": null,
   "id": "05a5019a-1613-4a2b-852d-acff0b232f3f",
   "metadata": {
    "pycharm": {
     "name": "#%%\n"
    }
   },
   "outputs": [],
   "source": [
    "cdf.grade.cat.codes.compute()"
   ]
  },
  {
   "cell_type": "markdown",
   "id": "bffb7ecc-0bca-4443-b31f-ee2a842dad71",
   "metadata": {
    "pycharm": {
     "name": "#%% md\n"
    }
   },
   "source": [
    "# Converting Data Representation\n",
    "## Pandas\n",
    "Converting a `VDataFrame` to a pandas DataFrame."
   ]
  },
  {
   "cell_type": "code",
   "execution_count": null,
   "id": "88ab6750-68e4-4dc8-bdb3-24689c2db978",
   "metadata": {
    "pycharm": {
     "name": "#%%\n"
    }
   },
   "outputs": [],
   "source": [
    "df.head().to_pandas()"
   ]
  },
  {
   "cell_type": "markdown",
   "id": "6dbcf4e1-4bb0-4b00-9fdc-47c8cc6037ea",
   "metadata": {
    "pycharm": {
     "name": "#%% md\n"
    }
   },
   "source": [
    "## Numpy\n",
    "Converting a `VDataFrame` to a numpy ndarray."
   ]
  },
  {
   "cell_type": "code",
   "execution_count": null,
   "id": "19f73cbf-76dc-4cd4-9320-d347fb8c75f7",
   "metadata": {
    "pycharm": {
     "name": "#%%\n"
    }
   },
   "outputs": [],
   "source": [
    "df.to_numpy()"
   ]
  },
  {
   "cell_type": "markdown",
   "id": "bb206c66-3571-45c4-ae8d-afd186d31da7",
   "metadata": {
    "pycharm": {
     "name": "#%% md\n"
    }
   },
   "source": [
    "Converting a `VSeries` to a numpy ndarray."
   ]
  },
  {
   "cell_type": "code",
   "execution_count": null,
   "id": "75eea3c5-b30d-4c0f-992c-4b0b479fc4eb",
   "metadata": {
    "pycharm": {
     "name": "#%%\n"
    }
   },
   "outputs": [],
   "source": [
    "df['a'].to_numpy()"
   ]
  },
  {
   "cell_type": "markdown",
   "id": "88b9da60-d47f-4105-8323-400d735bb795",
   "metadata": {
    "pycharm": {
     "name": "#%% md\n"
    }
   },
   "source": [
    "## Arrow\n",
    "Converting a `VDataFrame` to a PyArrow Table.\n",
    "\n",
    "> Note that this functionality is not available for `pandas` or `dask`."
   ]
  },
  {
   "cell_type": "code",
   "execution_count": null,
   "id": "a60e455e-d931-429e-85cf-b151b9f72ea1",
   "metadata": {
    "pycharm": {
     "name": "#%%\n"
    }
   },
   "outputs": [],
   "source": [
    "if vdf.VDF_MODE in (vdf.Mode.cudf, vdf.Mode.dask_cudf):\n",
    "    df.to_arrow()"
   ]
  },
  {
   "cell_type": "markdown",
   "id": "9bea42b1-1157-441c-ab59-0429f992098e",
   "metadata": {
    "pycharm": {
     "name": "#%% md\n"
    }
   },
   "source": [
    "# Getting Data In/Out\n",
    "## CSV\n",
    "Writing to a CSV file."
   ]
  },
  {
   "cell_type": "code",
   "execution_count": null,
   "id": "1b1e2220-82be-4ec1-8bc2-b409449db76c",
   "metadata": {
    "pycharm": {
     "name": "#%%\n"
    }
   },
   "outputs": [],
   "source": [
    "if not os.path.exists('example_output'):\n",
    "    os.mkdir('example_output')\n",
    "\n",
    "df.to_csv('example_output/foo.csv', index=False)"
   ]
  },
  {
   "cell_type": "markdown",
   "id": "0a8cd8d0-49e7-4630-ab62-b346b083a151",
   "metadata": {
    "pycharm": {
     "name": "#%% md\n"
    }
   },
   "source": [
    "Reading from a csv file."
   ]
  },
  {
   "cell_type": "code",
   "execution_count": null,
   "id": "8375e631-1ff3-4302-bcda-45d86560948d",
   "metadata": {
    "pycharm": {
     "name": "#%%\n"
    }
   },
   "outputs": [],
   "source": [
    "df = vdf.read_csv('example_output/foo.csv')\n",
    "df.compute()"
   ]
  },
  {
   "cell_type": "markdown",
   "id": "2c8b45ff-227d-43df-9665-5642af0bd2e0",
   "metadata": {
    "pycharm": {
     "name": "#%% md\n"
    }
   },
   "source": [
    "Reading all CSV files in a directory into a single dask_cudf.DataFrame, using the star wildcard.\n",
    "> Not implemented in pandas or cudf ?"
   ]
  },
  {
   "cell_type": "code",
   "execution_count": null,
   "id": "f99e0e8d-3ab4-4bd5-ba91-e70ba43e8983",
   "metadata": {
    "pycharm": {
     "name": "#%%\n"
    }
   },
   "outputs": [],
   "source": [
    "# FIXME: extends pandas\n",
    "if vdf.VDF_MODE in (vdf.Mode.dask, vdf.Mode.dask_cudf):\n",
    "    df = vdf.read_csv('example_output/*.csv')\n",
    "    df.compute()"
   ]
  },
  {
   "cell_type": "markdown",
   "id": "2d58c2ec-aa2e-4947-ad97-f3e7846b6fa8",
   "metadata": {
    "pycharm": {
     "name": "#%% md\n"
    }
   },
   "source": [
    "# Parquet\n",
    "Writing to parquet files, using the CPU via PyArrow."
   ]
  },
  {
   "cell_type": "code",
   "execution_count": null,
   "id": "324a921c-c39f-4901-8b55-14b994476f23",
   "metadata": {
    "pycharm": {
     "name": "#%%\n"
    }
   },
   "outputs": [],
   "source": [
    "df.to_parquet('example_output/temp_parquet')"
   ]
  },
  {
   "cell_type": "markdown",
   "id": "49ae8589-1426-466d-aa50-ac690dc0dbec",
   "metadata": {
    "pycharm": {
     "name": "#%% md\n"
    }
   },
   "source": [
    "## ORC\n",
    "Reading ORC files.\n",
    "> FIXME"
   ]
  },
  {
   "cell_type": "code",
   "execution_count": null,
   "id": "39bc9f1e-b2c9-4a28-a675-8838dfdf713d",
   "metadata": {
    "pycharm": {
     "name": "#%%\n"
    }
   },
   "outputs": [],
   "source": [
    "if vdf.VDF_MODE in (vdf.Mode.dask, vdf.Mode.dask_cudf):\n",
    "    from pathlib import Path\n",
    "    cudf_root = Path(\".\").absolute().parents[3]\n",
    "    orc_file = Path(\"python/cudf/cudf/tests/data/orc/TestOrcFile.test1.orc\")\n",
    "    file_path = cudf_root / orc_file"
   ]
  },
  {
   "cell_type": "code",
   "execution_count": null,
   "id": "a21d20af-defc-4ac3-a827-4d096431ff73",
   "metadata": {
    "pycharm": {
     "name": "#%%\n"
    }
   },
   "outputs": [],
   "source": [
    "# FIXME\n",
    "df2 = vdf.read_orc(file_path)\n",
    "df2"
   ]
  },
  {
   "cell_type": "code",
   "execution_count": null,
   "id": "501a1514-cd0c-475a-a959-a6a46cd16c7e",
   "metadata": {
    "pycharm": {
     "name": "#%%\n"
    }
   },
   "outputs": [],
   "source": []
  }
 ],
 "metadata": {
  "kernelspec": {
   "display_name": "Python 3 (ipykernel)",
   "language": "python",
   "name": "python3"
  },
  "language_info": {
   "codemirror_mode": {
    "name": "ipython",
    "version": 3
   },
   "file_extension": ".py",
   "mimetype": "text/x-python",
   "name": "python",
   "nbconvert_exporter": "python",
   "pygments_lexer": "ipython3",
   "version": "3.9.13"
  }
 },
 "nbformat": 4,
 "nbformat_minor": 5
}