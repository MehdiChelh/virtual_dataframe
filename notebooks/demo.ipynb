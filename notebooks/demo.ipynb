{
 "cells": [
  {
   "cell_type": "code",
   "execution_count": null,
   "id": "d96006f9",
   "metadata": {
    "pycharm": {
     "name": "#%%\n"
    }
   },
   "outputs": [],
   "source": [
    "mode = \"dask\"  # RESET THE KERNEL if you change this"
   ]
  },
  {
   "cell_type": "markdown",
   "id": "215e556b",
   "metadata": {
    "pycharm": {
     "name": "#%% md\n"
    }
   },
   "source": [
    "# Initialisation"
   ]
  },
  {
   "cell_type": "code",
   "execution_count": null,
   "id": "93a5ebe1",
   "metadata": {
    "pycharm": {
     "name": "#%%\n"
    },
    "tags": []
   },
   "outputs": [],
   "source": [
    "%reload_ext autoreload\n",
    "%autoreload 2\n",
    "import os\n",
    "# Select the mode in `pandas`, `cudf`, `dask` or `dask-cudf`.\n",
    "os.environ[\"VDF_MODE\"] = mode  # RESET THE KERNEL if you change this\n",
    "os.environ[\"DASK_SCHEDULER_SERVICE_HOST\"]=\"localhost\"\n",
    "\n",
    "#import cardif_dask as vdf  # Import Virtual Dataframe\n",
    "import virtual_dataframe as vdf\n",
    "import pandas as pd\n",
    "import numpy as np\n",
    "\n",
    "print(f\"Use {vdf.VDF_MODE.name.upper()}\")"
   ]
  },
  {
   "cell_type": "code",
   "execution_count": null,
   "id": "0d8334f4-bc2a-45e7-9e36-a5817c6bb45f",
   "metadata": {},
   "outputs": [],
   "source": [
    "# client = vdf.VClient()\n",
    "# client"
   ]
  },
  {
   "cell_type": "markdown",
   "id": "e559b428",
   "metadata": {
    "pycharm": {
     "name": "#%% md\n"
    }
   },
   "source": [
    "# Object Creation"
   ]
  },
  {
   "cell_type": "markdown",
   "id": "1505b755",
   "metadata": {
    "pycharm": {
     "name": "#%% md\n"
    }
   },
   "source": [
    "Creating a `VSeries`"
   ]
  },
  {
   "cell_type": "code",
   "execution_count": null,
   "id": "0a50b33a",
   "metadata": {
    "pycharm": {
     "name": "#%%\n"
    }
   },
   "outputs": [],
   "source": [
    "s = vdf.VSeries([1,2,3,None,4],npartitions=2)\n",
    "s.compute()"
   ]
  },
  {
   "cell_type": "markdown",
   "id": "b4b32407",
   "metadata": {
    "pycharm": {
     "name": "#%% md\n"
    }
   },
   "source": [
    "Creating a `VDataFrame` by specifying values for each column."
   ]
  },
  {
   "cell_type": "code",
   "execution_count": null,
   "id": "4433cf4a",
   "metadata": {
    "pycharm": {
     "name": "#%%\n"
    }
   },
   "outputs": [],
   "source": [
    "df = vdf.VDataFrame({'a': list(range(20)),\n",
    "                 'b': list(reversed(range(20))),\n",
    "                 'c': list(range(20))\n",
    "                }, npartitions=2)\n",
    "df.compute()"
   ]
  },
  {
   "cell_type": "markdown",
   "id": "1f40f384",
   "metadata": {
    "pycharm": {
     "name": "#%% md\n"
    }
   },
   "source": [
    "Creating a `VDataFrame` from a pandas `Dataframe`.\n",
    "\n",
    "> Note that best practice for `VDataFrame` is to read data directly into a ̀`VDataFrame` with something like `read_csv()` (discussed below)."
   ]
  },
  {
   "cell_type": "code",
   "execution_count": null,
   "id": "651f9781",
   "metadata": {
    "pycharm": {
     "name": "#%%\n"
    }
   },
   "outputs": [],
   "source": [
    "pdf = pd.DataFrame({'a': [0, 1, 2, 3],'b': [0.1, 0.2, 0.3, 0.4]})\n",
    "vdf.from_pandas(pdf, npartitions=2).compute()"
   ]
  },
  {
   "cell_type": "code",
   "execution_count": null,
   "id": "3e6974d9",
   "metadata": {
    "pycharm": {
     "name": "#%%\n"
    }
   },
   "outputs": [],
   "source": [
    "ps = pd.Series([1,2,3,None,4])\n",
    "vdf.from_pandas(ps, npartitions=2).compute()"
   ]
  },
  {
   "cell_type": "markdown",
   "id": "9fa4df91",
   "metadata": {
    "pycharm": {
     "name": "#%% md\n"
    }
   },
   "source": [
    "# Viewing Data"
   ]
  },
  {
   "cell_type": "markdown",
   "id": "27451275",
   "metadata": {
    "pycharm": {
     "name": "#%% md\n"
    }
   },
   "source": [
    "Viewing the top rows of a `VDataFrame`."
   ]
  },
  {
   "cell_type": "code",
   "execution_count": null,
   "id": "69366bd4",
   "metadata": {
    "pycharm": {
     "name": "#%%\n"
    }
   },
   "outputs": [],
   "source": [
    "df.head(2)"
   ]
  },
  {
   "cell_type": "code",
   "execution_count": null,
   "id": "2b262095",
   "metadata": {
    "pycharm": {
     "name": "#%%\n"
    }
   },
   "outputs": [],
   "source": [
    "df.sort_values(by='b').compute()"
   ]
  },
  {
   "cell_type": "markdown",
   "id": "224fc6b7",
   "metadata": {
    "pycharm": {
     "name": "#%% md\n"
    }
   },
   "source": [
    "# Selection"
   ]
  },
  {
   "cell_type": "markdown",
   "id": "4c087dff",
   "metadata": {
    "pycharm": {
     "name": "#%% md\n"
    }
   },
   "source": [
    "## Getting\n",
    "Selecting a single column, which initially yields a `VSeries`."
   ]
  },
  {
   "cell_type": "code",
   "execution_count": null,
   "id": "442e66ab",
   "metadata": {
    "pycharm": {
     "name": "#%%\n"
    }
   },
   "outputs": [],
   "source": [
    "df['a'].compute()"
   ]
  },
  {
   "cell_type": "markdown",
   "id": "e744b31c",
   "metadata": {
    "pycharm": {
     "name": "#%% md\n"
    },
    "tags": []
   },
   "source": [
    "## Selection by Label\n",
    "Selecting rows from index 2 to index 5 from columns ‘a’ and ‘b’."
   ]
  },
  {
   "cell_type": "code",
   "execution_count": null,
   "id": "0961e423",
   "metadata": {
    "pycharm": {
     "name": "#%%\n"
    }
   },
   "outputs": [],
   "source": [
    "df.loc[2:5, ['a', 'b']]"
   ]
  },
  {
   "cell_type": "code",
   "execution_count": null,
   "id": "ffdf08f0",
   "metadata": {
    "pycharm": {
     "name": "#%%\n"
    }
   },
   "outputs": [],
   "source": [
    "df.loc[2:5, ['a', 'b']].compute()"
   ]
  },
  {
   "cell_type": "markdown",
   "id": "01152484",
   "metadata": {
    "pycharm": {
     "name": "#%% md\n"
    },
    "tags": []
   },
   "source": [
    "## Selection by Position\n",
    "Selecting via integers and integer slices, like numpy/pandas.\n",
    "> Note that this functionality is not available for `dask-cudf`."
   ]
  },
  {
   "cell_type": "code",
   "execution_count": null,
   "id": "90b95111",
   "metadata": {
    "pycharm": {
     "name": "#%%\n"
    }
   },
   "outputs": [],
   "source": [
    "df.iloc[:,0:len(df.columns)].compute()"
   ]
  },
  {
   "cell_type": "code",
   "execution_count": null,
   "id": "b5099ad6",
   "metadata": {
    "pycharm": {
     "name": "#%%\n"
    }
   },
   "outputs": [],
   "source": [
    "s[3:5].compute()"
   ]
  },
  {
   "cell_type": "markdown",
   "id": "625b6e9a",
   "metadata": {
    "pycharm": {
     "name": "#%% md\n"
    },
    "tags": []
   },
   "source": [
    "## Boolean Indexing\n",
    "Selecting rows in a `VDataFrame` or `VSeries` by direct `Boolean` indexing."
   ]
  },
  {
   "cell_type": "code",
   "execution_count": null,
   "id": "ae52ebb7",
   "metadata": {
    "pycharm": {
     "name": "#%%\n"
    }
   },
   "outputs": [],
   "source": [
    "df[df.b > 15].compute()"
   ]
  },
  {
   "cell_type": "markdown",
   "id": "f3f03863",
   "metadata": {
    "pycharm": {
     "name": "#%% md\n"
    }
   },
   "source": [
    "Selecting values from a `DataFrame` where a `Boolean` condition is met, via the query API."
   ]
  },
  {
   "cell_type": "markdown",
   "id": "bb50ebe7",
   "metadata": {
    "pycharm": {
     "name": "#%% md\n"
    }
   },
   "source": [
    "You can pass local variables to queries, via the `local_dict` keyword.\n",
    "Supported logical operators include >, <, >=, <=, ==, and !=."
   ]
  },
  {
   "cell_type": "code",
   "execution_count": null,
   "id": "489bba53",
   "metadata": {
    "pycharm": {
     "name": "#%%\n"
    }
   },
   "outputs": [],
   "source": [
    "value = 3\n",
    "df.query(\"b == @value\",local_dict={'value':value}).compute()"
   ]
  },
  {
   "cell_type": "code",
   "execution_count": null,
   "id": "024d5132",
   "metadata": {
    "pycharm": {
     "name": "#%%\n"
    }
   },
   "outputs": [],
   "source": [
    "value = 3\n",
    "df.query(\"b == @val\", local_dict={'val':value}).compute()"
   ]
  },
  {
   "cell_type": "markdown",
   "id": "bb108132",
   "metadata": {
    "pycharm": {
     "name": "#%% md\n"
    }
   },
   "source": [
    "Using the isin method for filtering."
   ]
  },
  {
   "cell_type": "code",
   "execution_count": null,
   "id": "d01d2c56",
   "metadata": {
    "pycharm": {
     "name": "#%%\n"
    }
   },
   "outputs": [],
   "source": [
    "df[df.a.isin([0, 5])].compute()"
   ]
  },
  {
   "cell_type": "markdown",
   "id": "f97adca8",
   "metadata": {
    "pycharm": {
     "name": "#%% md\n"
    },
    "tags": []
   },
   "source": [
    "# Missing Data"
   ]
  },
  {
   "cell_type": "markdown",
   "id": "1723f257",
   "metadata": {
    "pycharm": {
     "name": "#%% md\n"
    }
   },
   "source": [
    "Missing data can be replaced by using the fillna method."
   ]
  },
  {
   "cell_type": "code",
   "execution_count": null,
   "id": "c4d01673",
   "metadata": {
    "pycharm": {
     "name": "#%%\n"
    }
   },
   "outputs": [],
   "source": [
    "s.fillna(999).compute()"
   ]
  },
  {
   "cell_type": "markdown",
   "id": "a0527aaf",
   "metadata": {
    "pycharm": {
     "name": "#%% md\n"
    },
    "tags": []
   },
   "source": [
    "# Operations"
   ]
  },
  {
   "cell_type": "markdown",
   "id": "0c2e7294",
   "metadata": {
    "pycharm": {
     "name": "#%% md\n"
    }
   },
   "source": [
    "## Stats\n",
    "Calculating descriptive statistics for a Series."
   ]
  },
  {
   "cell_type": "code",
   "execution_count": null,
   "id": "efc93a5c",
   "metadata": {
    "pycharm": {
     "name": "#%%\n"
    }
   },
   "outputs": [],
   "source": [
    "vdf.compute(s.mean())[0], vdf.compute(s.var())[0]"
   ]
  },
  {
   "cell_type": "markdown",
   "id": "a5f53f6a",
   "metadata": {
    "pycharm": {
     "name": "#%% md\n"
    }
   },
   "source": [
    "## Applymap"
   ]
  },
  {
   "cell_type": "markdown",
   "id": "926a7b51",
   "metadata": {
    "pycharm": {
     "name": "#%% md\n"
    }
   },
   "source": [
    "Applying functions to a Series.\n",
    "Note that applying user defined functions directly with Dask-cuDF is not yet implemented.\n",
    "For now, you can use map_partitions to apply a function to each partition of the distributed dataframe."
   ]
  },
  {
   "cell_type": "code",
   "execution_count": null,
   "id": "2a1b2557",
   "metadata": {
    "pycharm": {
     "name": "#%%\n"
    }
   },
   "outputs": [],
   "source": [
    "def add_ten(num:np.int64):\n",
    "    return num + 10\n",
    "\n",
    "df['a'].apply(add_ten).compute()"
   ]
  },
  {
   "cell_type": "code",
   "execution_count": null,
   "id": "4cd2f158",
   "metadata": {
    "pycharm": {
     "name": "#%%\n"
    }
   },
   "outputs": [],
   "source": [
    "df['a'].map_partitions(add_ten).compute()"
   ]
  },
  {
   "cell_type": "code",
   "execution_count": null,
   "id": "63dae809-0e40-4988-8dcc-33a4ce8d025c",
   "metadata": {},
   "outputs": [],
   "source": [
    "def my_kernel(a_s, b_s, c_s, val, outs):\n",
    "    for i, (a, b, c) in enumerate(zip(a_s,b_s,c_s)):\n",
    "        outs[i] = (a + b + c ) * val\n",
    "        \n",
    "df.apply_rows(\n",
    "    my_kernel, \n",
    "    incols={'a':'a_s','b':'b_s','c':'c_s'},\n",
    "    outcols={'outs': np.float64},\n",
    "    kwargs={\"val\":3.0}\n",
    ").compute()"
   ]
  },
  {
   "cell_type": "markdown",
   "id": "13d4633d",
   "metadata": {
    "pycharm": {
     "name": "#%% md\n"
    }
   },
   "source": [
    "## Histogramming"
   ]
  },
  {
   "cell_type": "markdown",
   "id": "f27784f3",
   "metadata": {
    "pycharm": {
     "name": "#%% md\n"
    }
   },
   "source": [
    "Counting the number of occurrences of each unique value of variable."
   ]
  },
  {
   "cell_type": "code",
   "execution_count": null,
   "id": "2ef211a9",
   "metadata": {
    "pycharm": {
     "name": "#%%\n"
    }
   },
   "outputs": [],
   "source": [
    "df.a.value_counts().compute()"
   ]
  },
  {
   "cell_type": "markdown",
   "id": "0e3dd443",
   "metadata": {
    "pycharm": {
     "name": "#%% md\n"
    }
   },
   "source": [
    "## String Methods"
   ]
  },
  {
   "cell_type": "markdown",
   "id": "88fcdfe0",
   "metadata": {
    "pycharm": {
     "name": "#%% md\n"
    }
   },
   "source": [
    "Virtual Dataframe provides string processing methods in the str attribute of Series."
   ]
  },
  {
   "cell_type": "code",
   "execution_count": null,
   "id": "255d8add",
   "metadata": {
    "pycharm": {
     "name": "#%%\n"
    }
   },
   "outputs": [],
   "source": [
    "s = vdf.VSeries(['A', 'B', 'C', 'Aaba', 'Baca', None, 'CABA', 'dog', 'cat'], npartitions=2)\n",
    "s.str.lower().compute()"
   ]
  },
  {
   "cell_type": "markdown",
   "id": "fd03b7bc",
   "metadata": {
    "pycharm": {
     "name": "#%% md\n"
    },
    "tags": []
   },
   "source": [
    "# Concat"
   ]
  },
  {
   "cell_type": "markdown",
   "id": "841bbdc3",
   "metadata": {
    "pycharm": {
     "name": "#%% md\n"
    }
   },
   "source": [
    "Concatenating VSeries and VDataFrames row-wise."
   ]
  },
  {
   "cell_type": "code",
   "execution_count": null,
   "id": "b79ddbd1",
   "metadata": {
    "pycharm": {
     "name": "#%%\n"
    }
   },
   "outputs": [],
   "source": [
    "s = vdf.VSeries([1, 2, 3, None, 5],npartitions=2)\n",
    "vdf.concat([s, s]).compute()"
   ]
  },
  {
   "cell_type": "markdown",
   "id": "f8ca3fc7",
   "metadata": {
    "pycharm": {
     "name": "#%% md\n"
    },
    "tags": []
   },
   "source": [
    "# Join"
   ]
  },
  {
   "cell_type": "markdown",
   "id": "a7c527df",
   "metadata": {
    "pycharm": {
     "name": "#%% md\n"
    }
   },
   "source": [
    "Performing SQL style merges.\n",
    "Note that the dataframe order is not maintained, but may be restored post-merge by sorting by the index."
   ]
  },
  {
   "cell_type": "code",
   "execution_count": null,
   "id": "e4332dd5",
   "metadata": {
    "pycharm": {
     "name": "#%%\n"
    }
   },
   "outputs": [],
   "source": [
    "df_a = vdf.VDataFrame({\"key\":['a', 'b', 'c', 'd', 'e'], \"vals_a\":[float(i + 10) for i in range(5)]})\n",
    "\n",
    "df_b = vdf.VDataFrame({\"key\":['a', 'c', 'e'],\"vals_b\":[float(i+100) for i in range(3)]})\n",
    "\n",
    "merged = df_a.merge(df_b, on=['key'], how='left')\n",
    "merged.compute()"
   ]
  },
  {
   "cell_type": "markdown",
   "id": "5cfd9bd8",
   "metadata": {
    "pycharm": {
     "name": "#%% md\n"
    },
    "tags": []
   },
   "source": [
    "# Grouping"
   ]
  },
  {
   "cell_type": "markdown",
   "id": "d82dae07",
   "metadata": {
    "pycharm": {
     "name": "#%% md\n"
    }
   },
   "source": [
    "Virtual Dataframe support the Split-Apply-Combine groupby paradigm."
   ]
  },
  {
   "cell_type": "code",
   "execution_count": null,
   "id": "c49b8def",
   "metadata": {
    "pycharm": {
     "name": "#%%\n"
    }
   },
   "outputs": [],
   "source": [
    "df = vdf.VDataFrame({'a': list(range(20)),\n",
    "                     'b': list(reversed(range(20))),\n",
    "                     'c': list(range(20))\n",
    "                    })\n",
    "\n",
    "df['agg_col1'] = pd.Series([1 if x % 2 == 0 else 0 for x in range(len(df))])\n",
    "df['agg_col2'] = pd.Series([1 if x % 3 == 0 else 0 for x in range(len(df))])"
   ]
  },
  {
   "cell_type": "code",
   "execution_count": null,
   "id": "49391732",
   "metadata": {
    "pycharm": {
     "name": "#%%\n"
    }
   },
   "outputs": [],
   "source": [
    "ddf = vdf.from_backend(df.compute(), npartitions=2)\n",
    "ddf.compute()"
   ]
  },
  {
   "cell_type": "markdown",
   "id": "dfaa9249",
   "metadata": {
    "pycharm": {
     "name": "#%% md\n"
    }
   },
   "source": [
    "Grouping and then applying the sum function to the grouped data."
   ]
  },
  {
   "cell_type": "code",
   "execution_count": null,
   "id": "4b815fb0",
   "metadata": {
    "pycharm": {
     "name": "#%%\n"
    }
   },
   "outputs": [],
   "source": [
    "df.groupby('agg_col1').sum().compute()"
   ]
  },
  {
   "cell_type": "markdown",
   "id": "1d642374",
   "metadata": {
    "pycharm": {
     "name": "#%% md\n"
    }
   },
   "source": [
    "Grouping hierarchically then applying the sum function to grouped data."
   ]
  },
  {
   "cell_type": "code",
   "execution_count": null,
   "id": "61a2ce7c",
   "metadata": {
    "pycharm": {
     "name": "#%%\n"
    }
   },
   "outputs": [],
   "source": [
    "df.groupby(['agg_col1', 'agg_col2']).sum().compute()"
   ]
  },
  {
   "cell_type": "markdown",
   "id": "2e5dd5f4",
   "metadata": {
    "pycharm": {
     "name": "#%% md\n"
    }
   },
   "source": [
    "Grouping and applying statistical functions to specific columns, using agg."
   ]
  },
  {
   "cell_type": "code",
   "execution_count": null,
   "id": "3dada754",
   "metadata": {
    "pycharm": {
     "name": "#%%\n"
    }
   },
   "outputs": [],
   "source": [
    "df.groupby('agg_col1').agg({'a':'max', 'b':'mean', 'c':'sum'}).compute()"
   ]
  },
  {
   "cell_type": "markdown",
   "id": "083fa3e4",
   "metadata": {
    "pycharm": {
     "name": "#%% md\n"
    },
    "tags": []
   },
   "source": [
    "# Categoricals"
   ]
  },
  {
   "cell_type": "markdown",
   "id": "4a8acdd6",
   "metadata": {
    "pycharm": {
     "name": "#%% md\n"
    }
   },
   "source": [
    "`VDataFrames` support categorical columns."
   ]
  },
  {
   "cell_type": "code",
   "execution_count": null,
   "id": "fc479ae6",
   "metadata": {
    "pycharm": {
     "name": "#%%\n"
    }
   },
   "outputs": [],
   "source": [
    "import virtual_dataframe as vdf\n",
    "# String Arrays is not yet implemented in dask_cudf\n",
    "#gdf = vdf.VDataFrame({\"id\": [1, 2, 3, 4, 5, 6], \"grade\":['a', 'b', 'b', 'a', 'a', 'e']}, npartitions=2)\n",
    "gdf = vdf.VDataFrame({\"id\": [1, 2, 3, 4, 5, 6], \"grade\":[101, 102, 103, 104, 105, 106]}, npartitions=2)\n",
    "gdf['grade'] = gdf['grade'].astype('category')\n",
    "if vdf.VDF_MODE in (vdf.Mode.dask,vdf.Mode.dask_cudf):\n",
    "    gdf['grade'] = gdf.grade.cat.as_known()\n",
    "gdf.dtypes"
   ]
  },
  {
   "cell_type": "markdown",
   "id": "8eca34e2",
   "metadata": {
    "pycharm": {
     "name": "#%% md\n"
    }
   },
   "source": [
    "Accessing the categories of a column.\n",
    "\n",
    "> Note that this is currently not supported in `dask-cudf`."
   ]
  },
  {
   "cell_type": "markdown",
   "id": "9e98d7f3",
   "metadata": {
    "pycharm": {
     "name": "#%% md\n"
    }
   },
   "source": [
    "Accessing the underlying code values of each categorical observation."
   ]
  },
  {
   "cell_type": "code",
   "execution_count": null,
   "id": "639cae65",
   "metadata": {
    "pycharm": {
     "name": "#%%\n"
    }
   },
   "outputs": [],
   "source": [
    "gdf.categorize().compute()"
   ]
  },
  {
   "cell_type": "code",
   "execution_count": null,
   "id": "d5737634",
   "metadata": {
    "pycharm": {
     "name": "#%%\n"
    }
   },
   "outputs": [],
   "source": [
    "gdf.grade.cat.codes.compute()"
   ]
  },
  {
   "cell_type": "markdown",
   "id": "49d08668",
   "metadata": {
    "pycharm": {
     "name": "#%% md\n"
    },
    "tags": []
   },
   "source": [
    "# Converting Data Representation"
   ]
  },
  {
   "cell_type": "markdown",
   "id": "f6ece7e9",
   "metadata": {
    "pycharm": {
     "name": "#%% md\n"
    }
   },
   "source": [
    "## Pandas\n",
    "Converting a `VDataFrame` to a pandas DataFrame."
   ]
  },
  {
   "cell_type": "code",
   "execution_count": null,
   "id": "d0d6b834",
   "metadata": {
    "pycharm": {
     "name": "#%%\n"
    }
   },
   "outputs": [],
   "source": [
    "df.head().to_pandas()"
   ]
  },
  {
   "cell_type": "markdown",
   "id": "91700c3a",
   "metadata": {
    "pycharm": {
     "name": "#%% md\n"
    }
   },
   "source": [
    "## Numpy\n",
    "Converting a `VDataFrame` to a numpy ndarray."
   ]
  },
  {
   "cell_type": "code",
   "execution_count": null,
   "id": "335d8216",
   "metadata": {
    "pycharm": {
     "name": "#%%\n"
    }
   },
   "outputs": [],
   "source": [
    "df.to_numpy()"
   ]
  },
  {
   "cell_type": "markdown",
   "id": "abab2eef",
   "metadata": {
    "pycharm": {
     "name": "#%% md\n"
    }
   },
   "source": [
    "Converting a `VSeries` to a numpy ndarray."
   ]
  },
  {
   "cell_type": "code",
   "execution_count": null,
   "id": "bada2613",
   "metadata": {
    "pycharm": {
     "name": "#%%\n"
    }
   },
   "outputs": [],
   "source": [
    "df['a'].to_numpy()"
   ]
  },
  {
   "cell_type": "markdown",
   "id": "e6293867",
   "metadata": {
    "pycharm": {
     "name": "#%% md\n"
    },
    "tags": []
   },
   "source": [
    "# Delayed"
   ]
  },
  {
   "cell_type": "code",
   "execution_count": null,
   "id": "3ddaef9f",
   "metadata": {
    "pycharm": {
     "name": "#%%\n"
    }
   },
   "outputs": [],
   "source": [
    "TestDF = vdf.VDataFrame\n",
    "\n",
    "@vdf.delayed\n",
    "def add_one(data: TestDF) -> TestDF:\n",
    "    return data + 1\n",
    "\n",
    "\n",
    "add_one(df).compute()"
   ]
  },
  {
   "cell_type": "markdown",
   "id": "20da20e8",
   "metadata": {
    "pycharm": {
     "name": "#%% md\n"
    },
    "tags": []
   },
   "source": [
    "# Getting Data In/Out"
   ]
  },
  {
   "cell_type": "markdown",
   "id": "af279836",
   "metadata": {
    "pycharm": {
     "name": "#%% md\n"
    }
   },
   "source": [
    "## CSV\n",
    "Writing to a CSV file."
   ]
  },
  {
   "cell_type": "code",
   "execution_count": null,
   "id": "dc85b901",
   "metadata": {
    "pycharm": {
     "name": "#%%\n"
    }
   },
   "outputs": [],
   "source": [
    "import shutil\n",
    "if os.path.exists('example_output'):\n",
    "    shutil.rmtree('example_output')\n",
    "os.mkdir('example_output')\n",
    "#df.to_csv('example_output/foo.csv', single_file=True)\n",
    "df.to_csv('example_output/foo*.csv')"
   ]
  },
  {
   "cell_type": "code",
   "execution_count": null,
   "id": "579e3e74",
   "metadata": {
    "pycharm": {
     "name": "#%%\n"
    }
   },
   "outputs": [],
   "source": [
    "!ls example_output"
   ]
  },
  {
   "cell_type": "markdown",
   "id": "9eb470fb",
   "metadata": {
    "pycharm": {
     "name": "#%% md\n"
    }
   },
   "source": [
    "Reading from a csv file."
   ]
  },
  {
   "cell_type": "code",
   "execution_count": null,
   "id": "6a91de89",
   "metadata": {
    "pycharm": {
     "name": "#%%\n"
    }
   },
   "outputs": [],
   "source": [
    "df = vdf.read_csv('example_output/foo*.csv')\n",
    "df.compute()"
   ]
  },
  {
   "cell_type": "markdown",
   "id": "2188eead",
   "metadata": {
    "pycharm": {
     "name": "#%% md\n"
    }
   },
   "source": [
    "Reading all CSV files in a directory into a single dask_cudf.DataFrame, using the star wildcard.\n",
    "> Not implemented in pandas or cudf ?"
   ]
  },
  {
   "cell_type": "markdown",
   "id": "9f22c3da",
   "metadata": {
    "pycharm": {
     "name": "#%% md\n"
    }
   },
   "source": [
    "## Parquet\n",
    "Writing to parquet files, using the CPU via PyArrow."
   ]
  },
  {
   "cell_type": "code",
   "execution_count": null,
   "id": "ea6fdd51",
   "metadata": {
    "pycharm": {
     "name": "#%%\n"
    }
   },
   "outputs": [],
   "source": [
    "df.to_parquet('example_output/temp_parquet')\n"
   ]
  },
  {
   "cell_type": "code",
   "execution_count": null,
   "id": "b7e483cb-26f6-4aa8-bb59-875e0e451651",
   "metadata": {},
   "outputs": [],
   "source": []
  }
 ],
 "metadata": {
  "kernelspec": {
   "display_name": "virtual_dataframe",
   "language": "python",
   "name": "virtual_dataframe"
  },
  "language_info": {
   "codemirror_mode": {
    "name": "ipython",
    "version": 3
   },
   "file_extension": ".py",
   "mimetype": "text/x-python",
   "name": "python",
   "nbconvert_exporter": "python",
   "pygments_lexer": "ipython3",
   "version": "3.8.13"
  }
 },
 "nbformat": 4,
 "nbformat_minor": 5
}
