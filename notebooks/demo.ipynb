{
 "cells": [
  {
   "cell_type": "markdown",
   "id": "58335e40-ead2-4aab-ac54-e5387c65db43",
   "metadata": {
    "pycharm": {
     "name": "#%% md\n"
    }
   },
   "source": [
    "# Initialisation\n",
    "Select the mode in `pandas`, `cudf`, `dask` or `dask-cudf`."
   ]
  },
  {
   "cell_type": "code",
   "execution_count": null,
   "outputs": [],
   "source": [
    "#%reload_ext autoreload\n",
    "#%autoreload 2\n",
    "import os\n",
    "os.environ[\"VDF_MODE\"] = \"dask\"  # Reset the kernel if you change this\n",
    "\n",
    "#import cardif_dask as vdf  # Import Virtual Dataframe\n",
    "import virtual_dataframe as vdf\n",
    "import pandas as pd\n",
    "import cupy as cp\n",
    "\n",
    "print(f\"Use {vdf.VDF_MODE}\")"
   ],
   "metadata": {
    "collapsed": false,
    "pycharm": {
     "name": "#%%\n"
    }
   }
  },
  {
   "cell_type": "markdown",
   "source": [
    "# Object Creation\n",
    "Creating a `VSeries`"
   ],
   "metadata": {
    "collapsed": false,
    "pycharm": {
     "name": "#%% md\n"
    }
   }
  },
  {
   "cell_type": "code",
   "execution_count": null,
   "outputs": [],
   "source": [
    "s = vdf.VSeries([1,2,3,None,4],npartitions=2)\n",
    "s.compute()"
   ],
   "metadata": {
    "collapsed": false,
    "pycharm": {
     "name": "#%%\n"
    }
   }
  },
  {
   "cell_type": "markdown",
   "source": [
    "Creating a `VDataFrame` by specifying values for each column."
   ],
   "metadata": {
    "collapsed": false,
    "pycharm": {
     "name": "#%% md\n"
    }
   }
  },
  {
   "cell_type": "code",
   "execution_count": null,
   "outputs": [],
   "source": [
    "df = vdf.VDataFrame({'a': list(range(20)),\n",
    "                 'b': list(reversed(range(20))),\n",
    "                 'c': list(range(20))\n",
    "                }, npartitions=2)\n",
    "df.compute()"
   ],
   "metadata": {
    "collapsed": false,
    "pycharm": {
     "name": "#%%\n"
    }
   }
  },
  {
   "cell_type": "markdown",
   "source": [
    "Creating a `VDataFrame` from a pandas `Dataframe`.\n",
    "\n",
    "> Note that best practice for `VDataFrame` is to read data directly into a ̀`VDataFrame` with something like `read_csv()` (discussed below)."
   ],
   "metadata": {
    "collapsed": false,
    "pycharm": {
     "name": "#%% md\n"
    }
   }
  },
  {
   "cell_type": "code",
   "execution_count": null,
   "outputs": [],
   "source": [
    "pdf = pd.DataFrame({'a': [0, 1, 2, 3],'b': [0.1, 0.2, 0.3, 0.4]})\n",
    "df = vdf.from_pandas(pdf,npartitions=2)\n",
    "df.compute()"
   ],
   "metadata": {
    "collapsed": false,
    "pycharm": {
     "name": "#%%\n"
    }
   }
  },
  {
   "cell_type": "code",
   "execution_count": null,
   "outputs": [],
   "source": [
    "ps = pd.Series([1,2,3,None,4])\n",
    "s = vdf.from_pandas(ps,npartitions=2)\n",
    "s.compute()"
   ],
   "metadata": {
    "collapsed": false,
    "pycharm": {
     "name": "#%%\n"
    }
   }
  },
  {
   "cell_type": "markdown",
   "source": [
    "# Viewing Data\n",
    "Viewing the top rows of a `VDataFrame`."
   ],
   "metadata": {
    "collapsed": false,
    "pycharm": {
     "name": "#%% md\n"
    }
   }
  },
  {
   "cell_type": "code",
   "execution_count": null,
   "outputs": [],
   "source": [
    "df.head(2).compute()"
   ],
   "metadata": {
    "collapsed": false,
    "pycharm": {
     "name": "#%%\n"
    }
   }
  },
  {
   "cell_type": "code",
   "execution_count": null,
   "outputs": [],
   "source": [
    "df.sort_values(by='b').compute()"
   ],
   "metadata": {
    "collapsed": false,
    "pycharm": {
     "name": "#%%\n"
    }
   }
  },
  {
   "cell_type": "markdown",
   "source": [
    "# Selection\n",
    "## Getting\n",
    "Selecting a single column, which initially yields a `VSeries`."
   ],
   "metadata": {
    "collapsed": false,
    "pycharm": {
     "name": "#%% md\n"
    }
   }
  },
  {
   "cell_type": "code",
   "execution_count": null,
   "outputs": [],
   "source": [
    "df['a'].compute()"
   ],
   "metadata": {
    "collapsed": false,
    "pycharm": {
     "name": "#%%\n"
    }
   }
  },
  {
   "cell_type": "markdown",
   "source": [
    "## Selection by Label\n",
    "Selecting rows from index 2 to index 5 from columns ‘a’ and ‘b’."
   ],
   "metadata": {
    "collapsed": false,
    "pycharm": {
     "name": "#%% md\n"
    }
   }
  },
  {
   "cell_type": "code",
   "execution_count": null,
   "outputs": [],
   "source": [
    "df.loc[2:5, ['a', 'b']]"
   ],
   "metadata": {
    "collapsed": false,
    "pycharm": {
     "name": "#%%\n"
    }
   }
  },
  {
   "cell_type": "code",
   "execution_count": null,
   "outputs": [],
   "source": [
    "df.loc[2:5, ['a', 'b']].compute()"
   ],
   "metadata": {
    "collapsed": false,
    "pycharm": {
     "name": "#%%\n"
    }
   }
  },
  {
   "cell_type": "markdown",
   "source": [
    "## Selection by Position\n",
    "Selecting via integers and integer slices, like numpy/pandas.\n",
    "> Note that this functionality is not available for `dask-cudf`."
   ],
   "metadata": {
    "collapsed": false,
    "pycharm": {
     "name": "#%% md\n"
    }
   }
  },
  {
   "cell_type": "code",
   "execution_count": null,
   "outputs": [],
   "source": [
    "df.iloc[0].compute()"
   ],
   "metadata": {
    "collapsed": false,
    "pycharm": {
     "name": "#%%\n"
    }
   }
  },
  {
   "cell_type": "code",
   "execution_count": null,
   "outputs": [],
   "source": [
    "df.iloc[0].compute() if vdf.VDF_MODE != vdf.Mode.dask_cudf else None"
   ],
   "metadata": {
    "collapsed": false,
    "pycharm": {
     "name": "#%%\n"
    }
   }
  },
  {
   "cell_type": "code",
   "execution_count": null,
   "outputs": [],
   "source": [
    "df.iloc[0:3, 0:2].compute()"
   ],
   "metadata": {
    "collapsed": false,
    "pycharm": {
     "name": "#%%\n"
    }
   }
  },
  {
   "cell_type": "markdown",
   "source": [
    "You can also select elements of a `VDataFrame` or `VSeries` with direct index access."
   ],
   "metadata": {
    "collapsed": false,
    "pycharm": {
     "name": "#%% md\n"
    }
   }
  },
  {
   "cell_type": "code",
   "execution_count": null,
   "outputs": [],
   "source": [
    "df[3:5].compute()"
   ],
   "metadata": {
    "collapsed": false,
    "pycharm": {
     "name": "#%%\n"
    }
   }
  },
  {
   "cell_type": "code",
   "execution_count": null,
   "outputs": [],
   "source": [
    "s[3:5].compute()"
   ],
   "metadata": {
    "collapsed": false,
    "pycharm": {
     "name": "#%%\n"
    }
   }
  },
  {
   "cell_type": "markdown",
   "source": [
    "## Boolean Indexing\n",
    "Selecting rows in a `VDataFrame` or `VSeries` by direct `Boolean` indexing."
   ],
   "metadata": {
    "collapsed": false,
    "pycharm": {
     "name": "#%% md\n"
    }
   }
  },
  {
   "cell_type": "code",
   "execution_count": null,
   "outputs": [],
   "source": [
    "df[df.b > 15].compute()"
   ],
   "metadata": {
    "collapsed": false,
    "pycharm": {
     "name": "#%%\n"
    }
   }
  },
  {
   "cell_type": "markdown",
   "source": [
    "Selecting values from a `DataFrame` where a `Boolean` condition is met, via the query API."
   ],
   "metadata": {
    "collapsed": false,
    "pycharm": {
     "name": "#%% md\n"
    }
   }
  },
  {
   "cell_type": "code",
   "execution_count": null,
   "outputs": [],
   "source": [
    "df.query(\"b == 3\").compute()"
   ],
   "metadata": {
    "collapsed": false,
    "pycharm": {
     "name": "#%%\n"
    }
   }
  },
  {
   "cell_type": "markdown",
   "source": [
    "You can also pass local variables to Dask-cuDF queries, via the local_dict keyword.\n",
    "With standard cuDF, you may either use the local_dict keyword or directly pass the variable\n",
    "via the @ keyword. Supported logical operators include >, <, >=, <=, ==, and !=."
   ],
   "metadata": {
    "collapsed": false,
    "pycharm": {
     "name": "#%% md\n"
    }
   }
  },
  {
   "cell_type": "code",
   "execution_count": null,
   "outputs": [],
   "source": [
    "value = 3\n",
    "df.query(\"b == @value\").compute()"
   ],
   "metadata": {
    "collapsed": false,
    "pycharm": {
     "name": "#%%\n"
    }
   }
  },
  {
   "cell_type": "code",
   "execution_count": null,
   "outputs": [],
   "source": [
    "value = 3\n",
    "df.query(\"b == @val\", local_dict={'val':value}).compute()"
   ],
   "metadata": {
    "collapsed": false,
    "pycharm": {
     "name": "#%%\n"
    }
   }
  },
  {
   "cell_type": "markdown",
   "source": [
    "Using the isin method for filtering."
   ],
   "metadata": {
    "collapsed": false,
    "pycharm": {
     "name": "#%% md\n"
    }
   }
  },
  {
   "cell_type": "code",
   "execution_count": null,
   "outputs": [],
   "source": [
    "df[df.a.isin([0, 5])].compute()"
   ],
   "metadata": {
    "collapsed": false,
    "pycharm": {
     "name": "#%%\n"
    }
   }
  },
  {
   "cell_type": "markdown",
   "source": [
    "# Missing Data\n",
    "Missing data can be replaced by using the fillna method."
   ],
   "metadata": {
    "collapsed": false,
    "pycharm": {
     "name": "#%% md\n"
    }
   }
  },
  {
   "cell_type": "code",
   "execution_count": null,
   "outputs": [],
   "source": [
    "s.fillna(999).compute()"
   ],
   "metadata": {
    "collapsed": false,
    "pycharm": {
     "name": "#%%\n"
    }
   }
  },
  {
   "cell_type": "markdown",
   "source": [
    "# Operations\n",
    "## Stats\n",
    "Calculating descriptive statistics for a Series."
   ],
   "metadata": {
    "collapsed": false,
    "pycharm": {
     "name": "#%% md\n"
    }
   }
  },
  {
   "cell_type": "code",
   "execution_count": null,
   "outputs": [],
   "source": [
    "vdf.compute(s.mean())[0], vdf.compute(s.var())[0]"
   ],
   "metadata": {
    "collapsed": false,
    "pycharm": {
     "name": "#%%\n"
    }
   }
  },
  {
   "cell_type": "markdown",
   "source": [
    "# Applymap\n",
    "Applying functions to a Series.\n",
    "Note that applying user defined functions directly with Dask-cuDF is not yet implemented.\n",
    "For now, you can use map_partitions to apply a function to each partition of the distributed dataframe."
   ],
   "metadata": {
    "collapsed": false,
    "pycharm": {
     "name": "#%% md\n"
    }
   }
  },
  {
   "cell_type": "code",
   "execution_count": null,
   "outputs": [],
   "source": [
    "def add_ten(num):\n",
    "    return num + 10\n",
    "\n",
    "df['a'].apply(add_ten).compute()"
   ],
   "metadata": {
    "collapsed": false,
    "pycharm": {
     "name": "#%%\n"
    }
   }
  },
  {
   "cell_type": "code",
   "execution_count": null,
   "outputs": [],
   "source": [
    "# Not with pandas\n",
    "if vdf.VDF_MODE in (vdf.Mode.dask, vdf.Mode.dask_cudf):\n",
    "    df['a'].map_partitions(add_ten).compute()"
   ],
   "metadata": {
    "collapsed": false,
    "pycharm": {
     "name": "#%%\n"
    }
   }
  },
  {
   "cell_type": "markdown",
   "source": [
    "# Histogramming\n",
    "Counting the number of occurrences of each unique value of variable."
   ],
   "metadata": {
    "collapsed": false,
    "pycharm": {
     "name": "#%% md\n"
    }
   }
  },
  {
   "cell_type": "code",
   "execution_count": null,
   "outputs": [],
   "source": [
    "df.a.value_counts().compute()"
   ],
   "metadata": {
    "collapsed": false,
    "pycharm": {
     "name": "#%%\n"
    }
   }
  },
  {
   "cell_type": "markdown",
   "source": [
    "# String Methods\n",
    "Virtual Dataframe provides string processing methods in the str attribute of Series."
   ],
   "metadata": {
    "collapsed": false,
    "pycharm": {
     "name": "#%% md\n"
    }
   }
  },
  {
   "cell_type": "code",
   "execution_count": null,
   "outputs": [],
   "source": [
    "s = vdf.VSeries(['A', 'B', 'C', 'Aaba', 'Baca', None, 'CABA', 'dog', 'cat'], npartitions=2)\n",
    "s.str.lower().compute()"
   ],
   "metadata": {
    "collapsed": false,
    "pycharm": {
     "name": "#%%\n"
    }
   }
  },
  {
   "cell_type": "markdown",
   "source": [
    "# Concat\n",
    "Concatenating VSeries and VDataFrames row-wise."
   ],
   "metadata": {
    "collapsed": false,
    "pycharm": {
     "name": "#%% md\n"
    }
   }
  },
  {
   "cell_type": "code",
   "execution_count": null,
   "outputs": [],
   "source": [
    "s = vdf.VSeries([1, 2, 3, None, 5],npartitions=2)\n",
    "vdf.concat([s, s]).compute()"
   ],
   "metadata": {
    "collapsed": false,
    "pycharm": {
     "name": "#%%\n"
    }
   }
  },
  {
   "cell_type": "markdown",
   "source": [
    "# Join\n",
    "Performing SQL style merges.\n",
    "Note that the dataframe order is not maintained, but may be restored post-merge by sorting by the index."
   ],
   "metadata": {
    "collapsed": false,
    "pycharm": {
     "name": "#%% md\n"
    }
   }
  },
  {
   "cell_type": "code",
   "execution_count": null,
   "outputs": [],
   "source": [
    "df_a = vdf.VDataFrame()\n",
    "df_a['key'] = ['a', 'b', 'c', 'd', 'e']\n",
    "df_a['vals_a'] = [float(i + 10) for i in range(5)]\n",
    "\n",
    "df_b = vdf.VDataFrame()\n",
    "df_b['key'] = ['a', 'c', 'e']\n",
    "df_b['vals_b'] = [float(i+100) for i in range(3)]\n",
    "\n",
    "merged = df_a.merge(df_b, on=['key'], how='left').compute()\n",
    "merged"
   ],
   "metadata": {
    "collapsed": false,
    "pycharm": {
     "name": "#%%\n"
    }
   }
  },
  {
   "cell_type": "markdown",
   "source": [
    "# Grouping\n",
    "Virtual Dataframe support the Split-Apply-Combine groupby paradigm."
   ],
   "metadata": {
    "collapsed": false,
    "pycharm": {
     "name": "#%% md\n"
    }
   }
  },
  {
   "cell_type": "code",
   "execution_count": null,
   "outputs": [],
   "source": [
    "import cudf\n",
    "import dask_cudf\n",
    "df = vdf.VDataFrame({'a': list(range(20)),\n",
    "                     'b': list(reversed(range(20))),\n",
    "                     'c': list(range(20))\n",
    "                    })\n",
    "df.compute()\n",
    "\n",
    "df['agg_col1'] = pd.Series([1 if x % 2 == 0 else 0 for x in range(len(df))])\n",
    "df['agg_col2'] = pd.Series([1 if x % 3 == 0 else 0 for x in range(len(df))])\n",
    "\n",
    "ddf = vdf.from_virtual(df.compute(), npartitions=2)\n",
    "ddf.compute()"
   ],
   "metadata": {
    "collapsed": false,
    "pycharm": {
     "name": "#%%\n"
    }
   }
  },
  {
   "cell_type": "markdown",
   "source": [
    "Grouping and then applying the sum function to the grouped data."
   ],
   "metadata": {
    "collapsed": false,
    "pycharm": {
     "name": "#%% md\n"
    }
   }
  },
  {
   "cell_type": "code",
   "execution_count": null,
   "outputs": [],
   "source": [
    "df.groupby('agg_col1').sum().compute()"
   ],
   "metadata": {
    "collapsed": false,
    "pycharm": {
     "name": "#%%\n"
    }
   }
  },
  {
   "cell_type": "markdown",
   "source": [
    "Grouping hierarchically then applying the sum function to grouped data."
   ],
   "metadata": {
    "collapsed": false,
    "pycharm": {
     "name": "#%% md\n"
    }
   }
  },
  {
   "cell_type": "code",
   "execution_count": null,
   "outputs": [],
   "source": [
    "df.groupby(['agg_col1', 'agg_col2']).sum().compute()"
   ],
   "metadata": {
    "collapsed": false,
    "pycharm": {
     "name": "#%%\n"
    }
   }
  },
  {
   "cell_type": "markdown",
   "source": [
    "Grouping and applying statistical functions to specific columns, using agg."
   ],
   "metadata": {
    "collapsed": false,
    "pycharm": {
     "name": "#%% md\n"
    }
   }
  },
  {
   "cell_type": "code",
   "execution_count": null,
   "outputs": [],
   "source": [
    "df.groupby('agg_col1').agg({'a':'max', 'b':'mean', 'c':'sum'}).compute()"
   ],
   "metadata": {
    "collapsed": false,
    "pycharm": {
     "name": "#%%\n"
    }
   }
  },
  {
   "cell_type": "markdown",
   "source": [
    "# FIXME Time Series\n",
    "`VDataFrames` supports datetime typed columns, which allow users to interact with and filter data based on specific timestamps."
   ],
   "metadata": {
    "collapsed": false,
    "pycharm": {
     "name": "#%% md\n"
    }
   }
  },
  {
   "cell_type": "code",
   "execution_count": null,
   "outputs": [],
   "source": [
    "import datetime as dt\n",
    "import pandas as pd\n",
    "pd.Series(pd.date_range('11/20/2018', periods=72, freq='D'))"
   ],
   "metadata": {
    "collapsed": false,
    "pycharm": {
     "name": "#%%\n"
    }
   }
  },
  {
   "cell_type": "code",
   "execution_count": null,
   "outputs": [],
   "source": [
    "#date_df = vdf.VDataFrame()\n",
    "#date_df['date'] = pd.date_range('11/20/2018', periods=72, freq='D')\n",
    "import dask\n",
    "import pandas\n",
    "pdf=pandas.DataFrame(index=pd.Series(pd.date_range('11/20/2022', periods=72, freq='D')))\n",
    "pdf"
   ],
   "metadata": {
    "collapsed": false,
    "pycharm": {
     "name": "#%%\n"
    }
   }
  },
  {
   "cell_type": "code",
   "execution_count": null,
   "outputs": [],
   "source": [
    "date_df = dask.dataframe.from_pandas(pdf,npartitions=2)\n",
    "date_df\n",
    "#date_df.set_index(\"date\",pd.Series(pd.date_range('11/20/2018', periods=72, freq='D')))"
   ],
   "metadata": {
    "collapsed": false,
    "pycharm": {
     "name": "#%%\n"
    }
   }
  },
  {
   "cell_type": "code",
   "execution_count": null,
   "outputs": [],
   "source": [
    "import datetime as dt\n",
    "\n",
    "date_values=pd.Series(pd.date_range('11/20/2022', periods=72, freq='D'))\n",
    "data_values=rng.standard_normal(len(date_values))\n",
    "vdf.VDataFrame(data_values,index=date_values,npartitions=2)"
   ],
   "metadata": {
    "collapsed": false,
    "pycharm": {
     "name": "#%%\n"
    }
   }
  },
  {
   "cell_type": "code",
   "execution_count": null,
   "outputs": [],
   "source": [
    "from numpy.random import default_rng\n",
    "rng = default_rng()\n",
    "vals = rng.standard_normal(10)\n",
    "more_vals = rng.standard_normal(10)\n",
    "rng, vals, more_vals"
   ],
   "metadata": {
    "collapsed": false,
    "pycharm": {
     "name": "#%%\n"
    }
   }
  },
  {
   "cell_type": "code",
   "execution_count": null,
   "outputs": [],
   "source": [
    "# FIXME\n",
    "from numpy.random import default_rng\n",
    "rng=default_rng()\n",
    "rand_len = cp.random.sample(len(date_df))"
   ],
   "metadata": {
    "collapsed": false,
    "pycharm": {
     "name": "#%%\n"
    }
   }
  },
  {
   "cell_type": "markdown",
   "id": "689943ba-4c6d-4efa-9b0c-a06011c112c6",
   "metadata": {
    "pycharm": {
     "name": "#%% md\n"
    },
    "tags": []
   },
   "source": [
    "# FIXME Categoricals\n",
    "VDataFrames support categorical columns."
   ]
  },
  {
   "cell_type": "code",
   "execution_count": null,
   "id": "e4ad138e-c0d4-4f09-8533-ec15222c28f6",
   "metadata": {
    "pycharm": {
     "name": "#%%\n"
    }
   },
   "outputs": [],
   "source": [
    "# FIXME\n",
    "cdf = vdf.VDataFrame({\"id\": [1, 2, 3, 4, 5, 6], \"grade\":['a', 'b', 'b', 'a', 'a', 'e']}, npartitions=2)\n",
    "cdf['grade'] = df['grade'].astype('category')\n",
    "cdf.compute()"
   ]
  },
  {
   "cell_type": "markdown",
   "id": "bfcb1dee-d5f5-417d-bf29-3e9b879bb788",
   "metadata": {
    "pycharm": {
     "name": "#%% md\n"
    }
   },
   "source": [
    "Accessing the categories of a column.\n",
    "\n",
    "> Note that this is currently not supported in `dask-cudf`."
   ]
  },
  {
   "cell_type": "code",
   "execution_count": null,
   "id": "fb1cd27f-b5c5-4cec-bc93-020857ae0250",
   "metadata": {
    "pycharm": {
     "name": "#%%\n"
    }
   },
   "outputs": [],
   "source": [
    "# FIXME\n",
    "cdf.grade.cat.categories"
   ]
  },
  {
   "cell_type": "markdown",
   "id": "d1a2f6b0-c76d-4044-b820-f4c597a74b81",
   "metadata": {
    "pycharm": {
     "name": "#%% md\n"
    }
   },
   "source": [
    "Accessing the underlying code values of each categorical observation."
   ]
  },
  {
   "cell_type": "code",
   "execution_count": null,
   "id": "05a5019a-1613-4a2b-852d-acff0b232f3f",
   "metadata": {
    "pycharm": {
     "name": "#%%\n"
    }
   },
   "outputs": [],
   "source": [
    "cdf.grade.cat.codes.compute()"
   ]
  },
  {
   "cell_type": "markdown",
   "id": "bffb7ecc-0bca-4443-b31f-ee2a842dad71",
   "metadata": {
    "pycharm": {
     "name": "#%% md\n"
    }
   },
   "source": [
    "# Converting Data Representation\n",
    "## Pandas\n",
    "Converting a `VDataFrame` to a pandas DataFrame."
   ]
  },
  {
   "cell_type": "code",
   "execution_count": null,
   "id": "88ab6750-68e4-4dc8-bdb3-24689c2db978",
   "metadata": {
    "pycharm": {
     "name": "#%%\n"
    }
   },
   "outputs": [],
   "source": [
    "df.head().to_pandas()"
   ]
  },
  {
   "cell_type": "markdown",
   "id": "6dbcf4e1-4bb0-4b00-9fdc-47c8cc6037ea",
   "metadata": {
    "pycharm": {
     "name": "#%% md\n"
    }
   },
   "source": [
    "## Numpy\n",
    "Converting a `VDataFrame` to a numpy ndarray."
   ]
  },
  {
   "cell_type": "code",
   "execution_count": null,
   "id": "19f73cbf-76dc-4cd4-9320-d347fb8c75f7",
   "metadata": {
    "pycharm": {
     "name": "#%%\n"
    }
   },
   "outputs": [],
   "source": [
    "df.to_numpy()"
   ]
  },
  {
   "cell_type": "markdown",
   "id": "bb206c66-3571-45c4-ae8d-afd186d31da7",
   "metadata": {
    "pycharm": {
     "name": "#%% md\n"
    }
   },
   "source": [
    "Converting a `VSeries` to a numpy ndarray."
   ]
  },
  {
   "cell_type": "code",
   "execution_count": null,
   "id": "75eea3c5-b30d-4c0f-992c-4b0b479fc4eb",
   "metadata": {
    "pycharm": {
     "name": "#%%\n"
    }
   },
   "outputs": [],
   "source": [
    "df['a'].to_numpy()"
   ]
  },
  {
   "cell_type": "markdown",
   "id": "88b9da60-d47f-4105-8323-400d735bb795",
   "metadata": {
    "pycharm": {
     "name": "#%% md\n"
    }
   },
   "source": [
    "## Arrow\n",
    "Converting a `VDataFrame` to a PyArrow Table.\n",
    "\n",
    "> Note that this functionality is not available for `pandas` or `dask`."
   ]
  },
  {
   "cell_type": "code",
   "execution_count": null,
   "id": "a60e455e-d931-429e-85cf-b151b9f72ea1",
   "metadata": {
    "pycharm": {
     "name": "#%%\n"
    }
   },
   "outputs": [],
   "source": [
    "if vdf.VDF_MODE in (vdf.Mode.cudf, vdf.Mode.dask_cudf):\n",
    "    df.to_arrow()"
   ]
  },
  {
   "cell_type": "markdown",
   "id": "9bea42b1-1157-441c-ab59-0429f992098e",
   "metadata": {
    "pycharm": {
     "name": "#%% md\n"
    }
   },
   "source": [
    "# Getting Data In/Out\n",
    "## CSV\n",
    "Writing to a CSV file."
   ]
  },
  {
   "cell_type": "code",
   "execution_count": null,
   "id": "1b1e2220-82be-4ec1-8bc2-b409449db76c",
   "metadata": {
    "pycharm": {
     "name": "#%%\n"
    }
   },
   "outputs": [],
   "source": [
    "if not os.path.exists('example_output'):\n",
    "    os.mkdir('example_output')\n",
    "\n",
    "df.to_csv('example_output/foo.csv', index=False)"
   ]
  },
  {
   "cell_type": "markdown",
   "id": "0a8cd8d0-49e7-4630-ab62-b346b083a151",
   "metadata": {
    "pycharm": {
     "name": "#%% md\n"
    }
   },
   "source": [
    "Reading from a csv file."
   ]
  },
  {
   "cell_type": "code",
   "execution_count": null,
   "id": "8375e631-1ff3-4302-bcda-45d86560948d",
   "metadata": {
    "pycharm": {
     "name": "#%%\n"
    }
   },
   "outputs": [],
   "source": [
    "df = vdf.read_csv('example_output/foo.csv')\n",
    "df.compute()"
   ]
  },
  {
   "cell_type": "markdown",
   "id": "2c8b45ff-227d-43df-9665-5642af0bd2e0",
   "metadata": {
    "pycharm": {
     "name": "#%% md\n"
    }
   },
   "source": [
    "Reading all CSV files in a directory into a single dask_cudf.DataFrame, using the star wildcard.\n",
    "> Not implemented in pandas or cudf ?"
   ]
  },
  {
   "cell_type": "code",
   "execution_count": null,
   "id": "f99e0e8d-3ab4-4bd5-ba91-e70ba43e8983",
   "metadata": {
    "pycharm": {
     "name": "#%%\n"
    }
   },
   "outputs": [],
   "source": [
    "# FIXME: extends pandas\n",
    "if vdf.VDF_MODE in (vdf.Mode.dask, vdf.Mode.dask_cudf):\n",
    "    df = vdf.read_csv('example_output/*.csv')\n",
    "    df.compute()"
   ]
  },
  {
   "cell_type": "markdown",
   "id": "2d58c2ec-aa2e-4947-ad97-f3e7846b6fa8",
   "metadata": {
    "pycharm": {
     "name": "#%% md\n"
    }
   },
   "source": [
    "# Parquet\n",
    "Writing to parquet files, using the CPU via PyArrow."
   ]
  },
  {
   "cell_type": "code",
   "execution_count": null,
   "id": "324a921c-c39f-4901-8b55-14b994476f23",
   "metadata": {
    "pycharm": {
     "name": "#%%\n"
    }
   },
   "outputs": [],
   "source": [
    "df.to_parquet('example_output/temp_parquet')"
   ]
  },
  {
   "cell_type": "markdown",
   "id": "49ae8589-1426-466d-aa50-ac690dc0dbec",
   "metadata": {
    "pycharm": {
     "name": "#%% md\n"
    }
   },
   "source": [
    "## ORC\n",
    "Reading ORC files.\n",
    "> FIXME"
   ]
  },
  {
   "cell_type": "code",
   "execution_count": null,
   "id": "39bc9f1e-b2c9-4a28-a675-8838dfdf713d",
   "metadata": {
    "pycharm": {
     "name": "#%%\n"
    }
   },
   "outputs": [],
   "source": [
    "if vdf.VDF_MODE in (vdf.Mode.dask, vdf.Mode.dask_cudf):\n",
    "    from pathlib import Path\n",
    "    cudf_root = Path(\".\").absolute().parents[3]\n",
    "    orc_file = Path(\"python/cudf/cudf/tests/data/orc/TestOrcFile.test1.orc\")\n",
    "    file_path = cudf_root / orc_file"
   ]
  },
  {
   "cell_type": "code",
   "execution_count": null,
   "id": "a21d20af-defc-4ac3-a827-4d096431ff73",
   "metadata": {
    "pycharm": {
     "name": "#%%\n"
    }
   },
   "outputs": [],
   "source": [
    "# FIXME\n",
    "df2 = vdf.read_orc(file_path)\n",
    "df2"
   ]
  },
  {
   "cell_type": "code",
   "execution_count": null,
   "id": "501a1514-cd0c-475a-a959-a6a46cd16c7e",
   "metadata": {
    "pycharm": {
     "name": "#%%\n"
    }
   },
   "outputs": [],
   "source": []
  }
 ],
 "metadata": {
  "kernelspec": {
   "display_name": "Python 3 (ipykernel)",
   "language": "python",
   "name": "python3"
  },
  "language_info": {
   "codemirror_mode": {
    "name": "ipython",
    "version": 3
   },
   "file_extension": ".py",
   "mimetype": "text/x-python",
   "name": "python",
   "nbconvert_exporter": "python",
   "pygments_lexer": "ipython3",
   "version": "3.9.13"
  }
 },
 "nbformat": 4,
 "nbformat_minor": 5
}